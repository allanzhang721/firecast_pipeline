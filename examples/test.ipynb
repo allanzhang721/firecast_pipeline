{
 "cells": [
  {
   "cell_type": "code",
   "execution_count": 1,
   "id": "73fa91c4",
   "metadata": {},
   "outputs": [],
   "source": [
    "# 🔁 Import pipeline components\n",
    "from regressorpipeline.train import train_fire_model, train_multiple_cnn_for_fire\n",
    "from regressorpipeline.predict import (\n",
    "    load_model_bundle,\n",
    "    predict_fire_risk,\n",
    "    predict_fire_risk_from_models,\n",
    ")\n",
    "from regressorpipeline.visualize import plot_fire_risk_surface_matplotlib\n",
    "\n",
    "import pandas as pd\n",
    "import os\n"
   ]
  },
  {
   "cell_type": "code",
   "execution_count": null,
   "id": "a8816b35",
   "metadata": {},
   "outputs": [
    {
     "name": "stderr",
     "output_type": "stream",
     "text": [
      "[I 2025-05-31 17:28:37,744] A new study created in memory with name: no-name-5186f475-8c3a-4b48-a6fa-c144dd494405\n",
      "[I 2025-05-31 17:28:38,349] Trial 0 finished with value: 8.489504116466572 and parameters: {'num_filters1': 23, 'num_filters2': 25, 'fc1_size': 50, 'lr': 0.0006287960577413796}. Best is trial 0 with value: 8.489504116466572.\n",
      "[I 2025-05-31 17:28:38,380] Trial 1 finished with value: 0.8782839909308935 and parameters: {'num_filters1': 26, 'num_filters2': 50, 'fc1_size': 48, 'lr': 0.0010221840455743102}. Best is trial 1 with value: 0.8782839909308935.\n",
      "[I 2025-05-31 17:28:38,408] Trial 2 finished with value: 0.6243253732383445 and parameters: {'num_filters1': 9, 'num_filters2': 48, 'fc1_size': 65, 'lr': 0.00214961907567656}. Best is trial 2 with value: 0.6243253732383445.\n",
      "[I 2025-05-31 17:28:38,441] Trial 3 finished with value: 0.16639361476133563 and parameters: {'num_filters1': 31, 'num_filters2': 38, 'fc1_size': 35, 'lr': 0.0005460437933286176}. Best is trial 3 with value: 0.16639361476133563.\n",
      "[I 2025-05-31 17:28:38,473] Trial 4 finished with value: -0.833119025766297 and parameters: {'num_filters1': 19, 'num_filters2': 54, 'fc1_size': 117, 'lr': 0.0021278431046740267}. Best is trial 4 with value: -0.833119025766297.\n",
      "[I 2025-05-31 17:28:38,504] Trial 5 finished with value: 0.7169546633144142 and parameters: {'num_filters1': 22, 'num_filters2': 56, 'fc1_size': 48, 'lr': 0.0045421999075452996}. Best is trial 4 with value: -0.833119025766297.\n",
      "[I 2025-05-31 17:28:38,532] Trial 6 finished with value: 0.5214892444160233 and parameters: {'num_filters1': 31, 'num_filters2': 23, 'fc1_size': 75, 'lr': 0.004367735300095019}. Best is trial 4 with value: -0.833119025766297.\n",
      "[I 2025-05-31 17:28:38,561] Trial 7 finished with value: -0.8116822780645577 and parameters: {'num_filters1': 9, 'num_filters2': 35, 'fc1_size': 89, 'lr': 0.0030301259680277754}. Best is trial 4 with value: -0.833119025766297.\n",
      "[I 2025-05-31 17:28:38,600] Trial 8 finished with value: 17.07473271076963 and parameters: {'num_filters1': 11, 'num_filters2': 55, 'fc1_size': 37, 'lr': 0.00012357865778504502}. Best is trial 4 with value: -0.833119025766297.\n",
      "[I 2025-05-31 17:28:38,634] Trial 9 finished with value: 14.822290982097021 and parameters: {'num_filters1': 19, 'num_filters2': 18, 'fc1_size': 86, 'lr': 0.00031371174721059433}. Best is trial 4 with value: -0.833119025766297.\n",
      "[I 2025-05-31 17:28:38,674] A new study created in memory with name: no-name-4e28560b-cf62-4a15-8ee1-87a61fa8e588\n",
      "[I 2025-05-31 17:28:38,706] Trial 0 finished with value: 0.06322437665750069 and parameters: {'num_filters1': 19, 'num_filters2': 52, 'fc1_size': 110, 'lr': 0.0014335633442402952}. Best is trial 0 with value: 0.06322437665750069.\n",
      "[I 2025-05-31 17:28:38,734] Trial 1 finished with value: 8.545918426138902 and parameters: {'num_filters1': 22, 'num_filters2': 19, 'fc1_size': 121, 'lr': 0.0009163298734673103}. Best is trial 0 with value: 0.06322437665750069.\n",
      "[I 2025-05-31 17:28:38,767] Trial 2 finished with value: -0.6309251937180491 and parameters: {'num_filters1': 12, 'num_filters2': 51, 'fc1_size': 61, 'lr': 0.0047943094132057}. Best is trial 2 with value: -0.6309251937180491.\n",
      "[I 2025-05-31 17:28:38,803] Trial 3 finished with value: -0.44750269722505553 and parameters: {'num_filters1': 25, 'num_filters2': 27, 'fc1_size': 60, 'lr': 0.00424313611374388}. Best is trial 2 with value: -0.6309251937180491.\n",
      "[I 2025-05-31 17:28:38,831] Trial 4 finished with value: 0.2315987848175043 and parameters: {'num_filters1': 16, 'num_filters2': 35, 'fc1_size': 87, 'lr': 0.0025258120379338736}. Best is trial 2 with value: -0.6309251937180491.\n",
      "[I 2025-05-31 17:28:38,862] Trial 5 finished with value: 11.2691615659573 and parameters: {'num_filters1': 24, 'num_filters2': 48, 'fc1_size': 112, 'lr': 0.00012544120978077482}. Best is trial 2 with value: -0.6309251937180491.\n"
     ]
    },
    {
     "name": "stdout",
     "output_type": "stream",
     "text": [
      "\n",
      "🔥 Model 'cnn' Evaluation:\n",
      "R²: 0.6517\n",
      "MAE: 0.0827\n",
      "MSE: 0.0119\n",
      "Single CNN model metrics: {'R²': 0.6516575408325311, 'MAE': 0.082710005, 'MSE': 0.011927585}\n"
     ]
    },
    {
     "name": "stderr",
     "output_type": "stream",
     "text": [
      "[I 2025-05-31 17:28:38,944] Trial 6 finished with value: 8.523072596440215 and parameters: {'num_filters1': 29, 'num_filters2': 47, 'fc1_size': 51, 'lr': 0.0003428172415671805}. Best is trial 2 with value: -0.6309251937180491.\n",
      "[I 2025-05-31 17:28:38,979] Trial 7 finished with value: 9.102588716820994 and parameters: {'num_filters1': 17, 'num_filters2': 22, 'fc1_size': 35, 'lr': 0.0002623637610563548}. Best is trial 2 with value: -0.6309251937180491.\n",
      "[I 2025-05-31 17:28:39,012] Trial 8 finished with value: 9.423996468674536 and parameters: {'num_filters1': 8, 'num_filters2': 41, 'fc1_size': 45, 'lr': 0.0012327729392905662}. Best is trial 2 with value: -0.6309251937180491.\n",
      "[I 2025-05-31 17:28:39,041] Trial 9 finished with value: 10.283025905194998 and parameters: {'num_filters1': 17, 'num_filters2': 24, 'fc1_size': 88, 'lr': 0.00018086340540920094}. Best is trial 2 with value: -0.6309251937180491.\n",
      "[I 2025-05-31 17:28:39,068] A new study created in memory with name: no-name-ae1f36e2-2db7-4aba-bb8e-324a622fe42e\n",
      "[I 2025-05-31 17:28:39,105] Trial 0 finished with value: 0.2643437150471195 and parameters: {'num_filters1': 26, 'num_filters2': 58, 'fc1_size': 61, 'lr': 0.004815492946133782}. Best is trial 0 with value: 0.2643437150471195.\n",
      "[I 2025-05-31 17:28:39,145] Trial 1 finished with value: -0.06237266367421146 and parameters: {'num_filters1': 25, 'num_filters2': 53, 'fc1_size': 38, 'lr': 0.002918797889703789}. Best is trial 1 with value: -0.06237266367421146.\n",
      "[I 2025-05-31 17:28:39,177] Trial 2 finished with value: 12.331800106371098 and parameters: {'num_filters1': 11, 'num_filters2': 64, 'fc1_size': 128, 'lr': 0.00016823727705779563}. Best is trial 1 with value: -0.06237266367421146.\n",
      "[I 2025-05-31 17:28:39,208] Trial 3 finished with value: 11.617912543262259 and parameters: {'num_filters1': 22, 'num_filters2': 40, 'fc1_size': 79, 'lr': 0.00015736712395019516}. Best is trial 1 with value: -0.06237266367421146.\n",
      "[I 2025-05-31 17:28:39,237] Trial 4 finished with value: 1.0021133550373413 and parameters: {'num_filters1': 31, 'num_filters2': 19, 'fc1_size': 68, 'lr': 0.0067053422530246425}. Best is trial 1 with value: -0.06237266367421146.\n",
      "[I 2025-05-31 17:28:39,263] Trial 5 finished with value: 13.623247163535137 and parameters: {'num_filters1': 8, 'num_filters2': 23, 'fc1_size': 88, 'lr': 0.0009709309429171044}. Best is trial 1 with value: -0.06237266367421146.\n",
      "[I 2025-05-31 17:28:39,304] Trial 6 finished with value: 0.5529452639652517 and parameters: {'num_filters1': 30, 'num_filters2': 62, 'fc1_size': 66, 'lr': 0.005973693220263909}. Best is trial 1 with value: -0.06237266367421146.\n",
      "[I 2025-05-31 17:28:39,331] Trial 7 finished with value: 3.119522168656644 and parameters: {'num_filters1': 30, 'num_filters2': 18, 'fc1_size': 73, 'lr': 0.0011440900789646082}. Best is trial 1 with value: -0.06237266367421146.\n",
      "[I 2025-05-31 17:28:39,362] Trial 8 finished with value: 6.856218768091132 and parameters: {'num_filters1': 12, 'num_filters2': 48, 'fc1_size': 121, 'lr': 0.0005335602112008994}. Best is trial 1 with value: -0.06237266367421146.\n",
      "[I 2025-05-31 17:28:39,394] Trial 9 finished with value: 7.052730809484274 and parameters: {'num_filters1': 26, 'num_filters2': 60, 'fc1_size': 119, 'lr': 0.0003150724621146978}. Best is trial 1 with value: -0.06237266367421146.\n",
      "[I 2025-05-31 17:28:39,427] A new study created in memory with name: no-name-fc77cd65-443f-462c-a58b-0b74088bb1bb\n",
      "[I 2025-05-31 17:28:39,461] Trial 0 finished with value: 0.4263829176470184 and parameters: {'num_filters1': 32, 'num_filters2': 41, 'fc1_size': 51, 'lr': 0.0051877703758587985}. Best is trial 0 with value: 0.4263829176470184.\n",
      "[I 2025-05-31 17:28:39,496] Trial 1 finished with value: 1.0749382415302136 and parameters: {'num_filters1': 11, 'num_filters2': 60, 'fc1_size': 32, 'lr': 0.0050665653570128415}. Best is trial 0 with value: 0.4263829176470184.\n",
      "[I 2025-05-31 17:28:39,530] Trial 2 finished with value: 13.334877070772864 and parameters: {'num_filters1': 9, 'num_filters2': 58, 'fc1_size': 74, 'lr': 0.00023537583339512796}. Best is trial 0 with value: 0.4263829176470184.\n",
      "[I 2025-05-31 17:28:39,561] Trial 3 finished with value: 10.381986531409257 and parameters: {'num_filters1': 16, 'num_filters2': 52, 'fc1_size': 58, 'lr': 0.00038760769217333215}. Best is trial 0 with value: 0.4263829176470184.\n",
      "[I 2025-05-31 17:28:39,595] Trial 4 finished with value: -0.3777360665557934 and parameters: {'num_filters1': 31, 'num_filters2': 25, 'fc1_size': 36, 'lr': 0.0018643083030714677}. Best is trial 4 with value: -0.3777360665557934.\n",
      "[I 2025-05-31 17:28:39,627] Trial 5 finished with value: 0.3803219813584495 and parameters: {'num_filters1': 26, 'num_filters2': 52, 'fc1_size': 42, 'lr': 0.005214955040239684}. Best is trial 4 with value: -0.3777360665557934.\n",
      "[I 2025-05-31 17:28:39,661] Trial 6 finished with value: 0.23665213070206348 and parameters: {'num_filters1': 31, 'num_filters2': 54, 'fc1_size': 122, 'lr': 0.008173712093551564}. Best is trial 4 with value: -0.3777360665557934.\n",
      "[I 2025-05-31 17:28:39,695] Trial 7 finished with value: 0.6490377323419825 and parameters: {'num_filters1': 27, 'num_filters2': 54, 'fc1_size': 117, 'lr': 0.0006399454126080236}. Best is trial 4 with value: -0.3777360665557934.\n",
      "[I 2025-05-31 17:28:39,723] Trial 8 finished with value: -0.45573480740963257 and parameters: {'num_filters1': 9, 'num_filters2': 55, 'fc1_size': 53, 'lr': 0.0019235288792946734}. Best is trial 8 with value: -0.45573480740963257.\n",
      "[I 2025-05-31 17:28:39,753] Trial 9 finished with value: 0.16001339736049802 and parameters: {'num_filters1': 14, 'num_filters2': 56, 'fc1_size': 67, 'lr': 0.0011527773667167516}. Best is trial 8 with value: -0.45573480740963257.\n"
     ]
    },
    {
     "ename": "FileNotFoundError",
     "evalue": "[Errno 2] No such file or directory: ''",
     "output_type": "error",
     "traceback": [
      "\u001b[0;31m---------------------------------------------------------------------------\u001b[0m",
      "\u001b[0;31mFileNotFoundError\u001b[0m                         Traceback (most recent call last)",
      "Cell \u001b[0;32mIn[2], line 23\u001b[0m\n\u001b[1;32m     20\u001b[0m \u001b[38;5;28mprint\u001b[39m(\u001b[38;5;124m\"\u001b[39m\u001b[38;5;124mSingle CNN model metrics:\u001b[39m\u001b[38;5;124m\"\u001b[39m, metrics)\n\u001b[1;32m     22\u001b[0m \u001b[38;5;66;03m# 🔧 2. Train CNN ensemble (3 runs) and save\u001b[39;00m\n\u001b[0;32m---> 23\u001b[0m models, metrics_list, ensemble_metrics \u001b[38;5;241m=\u001b[39m train_multiple_cnn_for_fire(\n\u001b[1;32m     24\u001b[0m     train_path, n_runs\u001b[38;5;241m=\u001b[39m\u001b[38;5;241m3\u001b[39m, save_path\u001b[38;5;241m=\u001b[39mensemble_model_path\n\u001b[1;32m     25\u001b[0m )\n\u001b[1;32m     26\u001b[0m \u001b[38;5;28mprint\u001b[39m(\u001b[38;5;124m\"\u001b[39m\u001b[38;5;124mEnsemble metrics:\u001b[39m\u001b[38;5;124m\"\u001b[39m, ensemble_metrics)\n\u001b[1;32m     28\u001b[0m \u001b[38;5;66;03m# 🔍 3. Load and test prediction (single model)\u001b[39;00m\n",
      "File \u001b[0;32m/opt/anaconda3/lib/python3.12/site-packages/regressorpipeline/train.py:170\u001b[0m, in \u001b[0;36mtrain_multiple_cnn_for_fire\u001b[0;34m(data_path, n_runs, save_path)\u001b[0m\n\u001b[1;32m    163\u001b[0m ensemble_metrics \u001b[38;5;241m=\u001b[39m {\n\u001b[1;32m    164\u001b[0m     \u001b[38;5;124m\"\u001b[39m\u001b[38;5;124mR²\u001b[39m\u001b[38;5;124m\"\u001b[39m: r2_score(y_te_scaled, ensemble_preds),\n\u001b[1;32m    165\u001b[0m     \u001b[38;5;124m\"\u001b[39m\u001b[38;5;124mMAE\u001b[39m\u001b[38;5;124m\"\u001b[39m: mean_absolute_error(y_te_scaled, ensemble_preds),\n\u001b[1;32m    166\u001b[0m     \u001b[38;5;124m\"\u001b[39m\u001b[38;5;124mMSE\u001b[39m\u001b[38;5;124m\"\u001b[39m: mean_squared_error(y_te_scaled, ensemble_preds),\n\u001b[1;32m    167\u001b[0m }\n\u001b[1;32m    169\u001b[0m \u001b[38;5;28;01mif\u001b[39;00m save_path:\n\u001b[0;32m--> 170\u001b[0m     os\u001b[38;5;241m.\u001b[39mmakedirs(os\u001b[38;5;241m.\u001b[39mpath\u001b[38;5;241m.\u001b[39mdirname(save_path), exist_ok\u001b[38;5;241m=\u001b[39m\u001b[38;5;28;01mTrue\u001b[39;00m)\n\u001b[1;32m    171\u001b[0m     joblib\u001b[38;5;241m.\u001b[39mdump(\n\u001b[1;32m    172\u001b[0m         {\n\u001b[1;32m    173\u001b[0m             \u001b[38;5;124m\"\u001b[39m\u001b[38;5;124mmodels\u001b[39m\u001b[38;5;124m\"\u001b[39m: models,\n\u001b[0;32m   (...)\u001b[0m\n\u001b[1;32m    178\u001b[0m         save_path,\n\u001b[1;32m    179\u001b[0m     )\n\u001b[1;32m    181\u001b[0m \u001b[38;5;28;01mreturn\u001b[39;00m models, metrics_list, ensemble_metrics\n",
      "File \u001b[0;32m<frozen os>:225\u001b[0m, in \u001b[0;36mmakedirs\u001b[0;34m(name, mode, exist_ok)\u001b[0m\n",
      "\u001b[0;31mFileNotFoundError\u001b[0m: [Errno 2] No such file or directory: ''"
     ]
    }
   ],
   "source": [
    "# ✅ Test paths\n",
    "train_path = \"example_data_train.xlsx\"\n",
    "test_path = \"example_data_test.xlsx\"\n",
    "\n",
    "from regressorpipeline.train import train_fire_model, train_multiple_cnn_for_fire\n",
    "from regressorpipeline.predict import (\n",
    "    load_model_bundle,\n",
    "    predict_fire_risk,\n",
    "    predict_fire_risk_from_models,\n",
    ")\n",
    "from regressorpipeline.visualize import plot_fire_risk_surface_matplotlib\n",
    "import pandas as pd\n",
    "import numpy as np\n",
    "\n",
    "# 🔧 1. Train and evaluate a single CNN model\n",
    "model, metrics = train_fire_model(\"cnn\", train_path, save=True)\n",
    "print(\"Single CNN model metrics:\", metrics)\n",
    "\n",
    "# 🔧 2. Train CNN ensemble (3 runs) and save\n",
    "models, metrics_list, ensemble_metrics = train_multiple_cnn_for_fire(\n",
    "    train_path, n_runs=3, save_path=ensemble_model_path\n",
    ")\n",
    "print(\"Ensemble metrics:\", ensemble_metrics)\n",
    "\n",
    "# 🔍 3. Load and test prediction (single model)\n",
    "models, scaler_X, scaler_y = load_model_bundle(cnn_model_path)\n",
    "preds = predict_fire_risk(models[0], scaler_X, scaler_y, test_path)\n",
    "print(\"Single CNN Predictions:\", preds[:5])\n",
    "\n",
    "# 🔍 4. Load and test ensemble prediction\n",
    "models, scaler_X, scaler_y = load_model_bundle(ensemble_model_path)\n",
    "avg_preds = predict_fire_risk_from_models(models, scaler_X, scaler_y, test_path)\n",
    "print(\"Averaged Ensemble Predictions:\", avg_preds[:5])\n",
    "\n",
    "# 🔍 5. Load and test OLS model prediction\n",
    "models, scaler_X, scaler_y = load_model_bundle(ols_model_path)\n",
    "ols_preds = predict_fire_risk(models[0], scaler_X, scaler_y, test_path)\n",
    "print(\"OLS Predictions:\", ols_preds[:5])\n",
    "\n",
    "# 📊 6. Generate CNN surface plot\n",
    "df = pd.read_excel(test_path, engine=\"openpyxl\")\n",
    "X_scaled_df = pd.DataFrame(\n",
    "    scaler_X.transform(np.log1p(df.select_dtypes(include=\"number\"))),\n",
    "    columns=df.select_dtypes(include=\"number\").columns\n",
    ")\n",
    "\n",
    "plot_fire_risk_surface_matplotlib(\n",
    "    model=models[0],\n",
    "    X_scaled_df=X_scaled_df,\n",
    "    scaler_X=scaler_X,\n",
    "    scaler_y=scaler_y,\n",
    "    feat1_name=\"Thermal Inertia\",  # must match feature name\n",
    "    feat2_name=\"HRRPUA\",           # must match feature name\n",
    "    title=\"CNN Prediction Surface\",\n",
    "    save_path=\"examples/cnn_surface.html\"\n",
    ")\n",
    "print(\"✅ Surface plot saved to examples/cnn_surface.html\")\n",
    "\n"
   ]
  },
  {
   "cell_type": "code",
   "execution_count": null,
   "id": "5b658887",
   "metadata": {},
   "outputs": [],
   "source": []
  }
 ],
 "metadata": {
  "kernelspec": {
   "display_name": "base",
   "language": "python",
   "name": "python3"
  },
  "language_info": {
   "codemirror_mode": {
    "name": "ipython",
    "version": 3
   },
   "file_extension": ".py",
   "mimetype": "text/x-python",
   "name": "python",
   "nbconvert_exporter": "python",
   "pygments_lexer": "ipython3",
   "version": "3.12.4"
  }
 },
 "nbformat": 4,
 "nbformat_minor": 5
}
