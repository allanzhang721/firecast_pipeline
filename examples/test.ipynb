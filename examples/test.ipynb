{
 "cells": [
  {
   "cell_type": "code",
   "execution_count": 1,
   "id": "73fa91c4",
   "metadata": {},
   "outputs": [],
   "source": [
    "# 🔁 Import pipeline components\n",
    "from regressorpipeline.train import train_fire_model, train_multiple_cnn_for_fire\n",
    "from regressorpipeline.predict import (\n",
    "    load_model_bundle,\n",
    "    predict_fire_risk,\n",
    "    predict_fire_risk_from_models,\n",
    ")\n",
    "from regressorpipeline.visualize import plot_fire_risk_surface_matplotlib\n",
    "\n",
    "import pandas as pd\n",
    "import os\n"
   ]
  },
  {
   "cell_type": "code",
   "execution_count": 5,
   "id": "a8816b35",
   "metadata": {},
   "outputs": [
    {
     "name": "stderr",
     "output_type": "stream",
     "text": [
      "[I 2025-05-31 17:41:38,613] A new study created in memory with name: no-name-2f4ed193-84c7-4380-a58b-aa0c010fe4f1\n",
      "[I 2025-05-31 17:41:38,713] Trial 0 finished with value: 1.5684123319593657 and parameters: {'num_filters1': 28, 'num_filters2': 60, 'fc1_size': 122, 'lr': 0.0003893169840519166}. Best is trial 0 with value: 1.5684123319593657.\n",
      "[I 2025-05-31 17:41:38,745] Trial 1 finished with value: 13.233178078418334 and parameters: {'num_filters1': 13, 'num_filters2': 28, 'fc1_size': 122, 'lr': 0.00017235877571519914}. Best is trial 0 with value: 1.5684123319593657.\n",
      "[I 2025-05-31 17:41:38,782] Trial 2 finished with value: 7.675171330909647 and parameters: {'num_filters1': 32, 'num_filters2': 31, 'fc1_size': 83, 'lr': 0.00017644409553244024}. Best is trial 0 with value: 1.5684123319593657.\n",
      "[I 2025-05-31 17:41:38,814] Trial 3 finished with value: 0.4921625426233851 and parameters: {'num_filters1': 19, 'num_filters2': 29, 'fc1_size': 47, 'lr': 0.002070712245135045}. Best is trial 3 with value: 0.4921625426233851.\n",
      "[I 2025-05-31 17:41:38,853] Trial 4 finished with value: -0.28113339674194804 and parameters: {'num_filters1': 16, 'num_filters2': 27, 'fc1_size': 106, 'lr': 0.0025553099356337883}. Best is trial 4 with value: -0.28113339674194804.\n",
      "[I 2025-05-31 17:41:38,887] Trial 5 finished with value: 5.426834145383522 and parameters: {'num_filters1': 28, 'num_filters2': 26, 'fc1_size': 97, 'lr': 0.00039031889038198143}. Best is trial 4 with value: -0.28113339674194804.\n",
      "[I 2025-05-31 17:41:38,920] Trial 6 finished with value: 12.050866330113848 and parameters: {'num_filters1': 29, 'num_filters2': 31, 'fc1_size': 59, 'lr': 0.00012994259359022173}. Best is trial 4 with value: -0.28113339674194804.\n",
      "[I 2025-05-31 17:41:38,953] Trial 7 finished with value: 0.19530111088176638 and parameters: {'num_filters1': 28, 'num_filters2': 39, 'fc1_size': 81, 'lr': 0.002799582738067414}. Best is trial 4 with value: -0.28113339674194804.\n",
      "[I 2025-05-31 17:41:38,989] Trial 8 finished with value: -0.8108889018708862 and parameters: {'num_filters1': 23, 'num_filters2': 52, 'fc1_size': 37, 'lr': 0.0015745038411066603}. Best is trial 8 with value: -0.8108889018708862.\n",
      "[I 2025-05-31 17:41:39,021] Trial 9 finished with value: 2.6226054159589585 and parameters: {'num_filters1': 26, 'num_filters2': 19, 'fc1_size': 100, 'lr': 0.0012377868120066694}. Best is trial 8 with value: -0.8108889018708862.\n",
      "[I 2025-05-31 17:41:39,060] A new study created in memory with name: no-name-3c5f5fbd-1744-4014-b2d3-5211f3f4b2f2\n",
      "[I 2025-05-31 17:41:39,094] Trial 0 finished with value: 0.9462725234560965 and parameters: {'num_filters1': 25, 'num_filters2': 63, 'fc1_size': 40, 'lr': 0.0007046738107949228}. Best is trial 0 with value: 0.9462725234560965.\n",
      "[I 2025-05-31 17:41:39,136] Trial 1 finished with value: 0.12777745353452552 and parameters: {'num_filters1': 9, 'num_filters2': 62, 'fc1_size': 41, 'lr': 0.001584836725318169}. Best is trial 1 with value: 0.12777745353452552.\n",
      "[I 2025-05-31 17:41:39,169] Trial 2 finished with value: 14.489829419245412 and parameters: {'num_filters1': 16, 'num_filters2': 51, 'fc1_size': 57, 'lr': 0.00017117893230416377}. Best is trial 1 with value: 0.12777745353452552.\n",
      "[I 2025-05-31 17:41:39,196] Trial 3 finished with value: -0.2706845063853075 and parameters: {'num_filters1': 9, 'num_filters2': 32, 'fc1_size': 109, 'lr': 0.004716981977145939}. Best is trial 3 with value: -0.2706845063853075.\n",
      "[I 2025-05-31 17:41:39,230] Trial 4 finished with value: 2.258339404400216 and parameters: {'num_filters1': 28, 'num_filters2': 40, 'fc1_size': 91, 'lr': 0.0009173626562717507}. Best is trial 3 with value: -0.2706845063853075.\n"
     ]
    },
    {
     "name": "stdout",
     "output_type": "stream",
     "text": [
      "\n",
      "🔥 Model 'cnn' Evaluation:\n",
      "R²: 0.4025\n",
      "MAE: 0.1028\n",
      "MSE: 0.0205\n",
      "Single CNN model metrics: {'R²': 0.4025452597331277, 'MAE': 0.102795094, 'MSE': 0.02045743}\n"
     ]
    },
    {
     "name": "stderr",
     "output_type": "stream",
     "text": [
      "[I 2025-05-31 17:41:39,266] Trial 5 finished with value: -0.5923202030407622 and parameters: {'num_filters1': 19, 'num_filters2': 51, 'fc1_size': 33, 'lr': 0.002294883487399579}. Best is trial 5 with value: -0.5923202030407622.\n",
      "[I 2025-05-31 17:41:39,300] Trial 6 finished with value: 1.2255019017003304 and parameters: {'num_filters1': 25, 'num_filters2': 42, 'fc1_size': 76, 'lr': 0.0011397456120426253}. Best is trial 5 with value: -0.5923202030407622.\n",
      "[I 2025-05-31 17:41:39,327] Trial 7 finished with value: 10.602710269551224 and parameters: {'num_filters1': 12, 'num_filters2': 42, 'fc1_size': 33, 'lr': 0.00014623220532424843}. Best is trial 5 with value: -0.5923202030407622.\n",
      "[I 2025-05-31 17:41:39,359] Trial 8 finished with value: 7.149629505905393 and parameters: {'num_filters1': 30, 'num_filters2': 44, 'fc1_size': 82, 'lr': 0.0003122593363950876}. Best is trial 5 with value: -0.5923202030407622.\n",
      "[I 2025-05-31 17:41:39,390] Trial 9 finished with value: 0.09657327471110921 and parameters: {'num_filters1': 26, 'num_filters2': 59, 'fc1_size': 57, 'lr': 0.0007791781761648115}. Best is trial 5 with value: -0.5923202030407622.\n",
      "[I 2025-05-31 17:41:39,419] A new study created in memory with name: no-name-5e5030d5-9b19-45d4-b306-16b6a8850edc\n",
      "[I 2025-05-31 17:41:39,447] Trial 0 finished with value: 0.31289148426255387 and parameters: {'num_filters1': 25, 'num_filters2': 18, 'fc1_size': 61, 'lr': 0.004496427491642739}. Best is trial 0 with value: 0.31289148426255387.\n",
      "[I 2025-05-31 17:41:39,474] Trial 1 finished with value: -0.5914518201446867 and parameters: {'num_filters1': 17, 'num_filters2': 27, 'fc1_size': 84, 'lr': 0.0027351286597540984}. Best is trial 1 with value: -0.5914518201446867.\n",
      "[I 2025-05-31 17:41:39,503] Trial 2 finished with value: 0.36956113948048963 and parameters: {'num_filters1': 32, 'num_filters2': 39, 'fc1_size': 64, 'lr': 0.009341887202081388}. Best is trial 1 with value: -0.5914518201446867.\n",
      "[I 2025-05-31 17:41:39,530] Trial 3 finished with value: 0.2890356816477413 and parameters: {'num_filters1': 25, 'num_filters2': 22, 'fc1_size': 101, 'lr': 0.009458008409707183}. Best is trial 1 with value: -0.5914518201446867.\n",
      "[I 2025-05-31 17:41:39,564] Trial 4 finished with value: 1.0321462489601063 and parameters: {'num_filters1': 20, 'num_filters2': 51, 'fc1_size': 102, 'lr': 0.0009911338955496162}. Best is trial 1 with value: -0.5914518201446867.\n",
      "[I 2025-05-31 17:41:39,596] Trial 5 finished with value: 0.7118040138888706 and parameters: {'num_filters1': 30, 'num_filters2': 43, 'fc1_size': 73, 'lr': 0.006822325539660664}. Best is trial 1 with value: -0.5914518201446867.\n",
      "[I 2025-05-31 17:41:39,627] Trial 6 finished with value: -0.21764442512880666 and parameters: {'num_filters1': 28, 'num_filters2': 21, 'fc1_size': 32, 'lr': 0.002524010847402593}. Best is trial 1 with value: -0.5914518201446867.\n",
      "[I 2025-05-31 17:41:39,656] Trial 7 finished with value: 1.126070305449756 and parameters: {'num_filters1': 22, 'num_filters2': 31, 'fc1_size': 50, 'lr': 0.0008407072812506287}. Best is trial 1 with value: -0.5914518201446867.\n",
      "[I 2025-05-31 17:41:39,684] Trial 8 finished with value: 1.074184125771375 and parameters: {'num_filters1': 8, 'num_filters2': 51, 'fc1_size': 79, 'lr': 0.0015537328387813286}. Best is trial 1 with value: -0.5914518201446867.\n",
      "[I 2025-05-31 17:41:39,717] Trial 9 finished with value: 2.201789477188081 and parameters: {'num_filters1': 18, 'num_filters2': 64, 'fc1_size': 89, 'lr': 0.0007995354169105684}. Best is trial 1 with value: -0.5914518201446867.\n",
      "[I 2025-05-31 17:41:39,745] A new study created in memory with name: no-name-bc224913-cecf-4ae3-87cc-7656995f9d20\n",
      "[I 2025-05-31 17:41:39,771] Trial 0 finished with value: 3.670005010816028 and parameters: {'num_filters1': 8, 'num_filters2': 20, 'fc1_size': 82, 'lr': 0.0018847936484963133}. Best is trial 0 with value: 3.670005010816028.\n",
      "[I 2025-05-31 17:41:39,801] Trial 1 finished with value: -0.593090132916391 and parameters: {'num_filters1': 29, 'num_filters2': 59, 'fc1_size': 40, 'lr': 0.0029729052897314867}. Best is trial 1 with value: -0.593090132916391.\n",
      "[I 2025-05-31 17:41:39,834] Trial 2 finished with value: 8.032988311419494 and parameters: {'num_filters1': 30, 'num_filters2': 59, 'fc1_size': 94, 'lr': 0.000176640060897753}. Best is trial 1 with value: -0.593090132916391.\n",
      "[I 2025-05-31 17:41:39,862] Trial 3 finished with value: 3.374144962715353 and parameters: {'num_filters1': 15, 'num_filters2': 54, 'fc1_size': 46, 'lr': 0.0005763972439362474}. Best is trial 1 with value: -0.593090132916391.\n",
      "[I 2025-05-31 17:41:39,892] Trial 4 finished with value: 0.2701597715967572 and parameters: {'num_filters1': 31, 'num_filters2': 28, 'fc1_size': 69, 'lr': 0.004448963046939531}. Best is trial 1 with value: -0.593090132916391.\n",
      "[I 2025-05-31 17:41:39,921] Trial 5 finished with value: 11.936975445125764 and parameters: {'num_filters1': 27, 'num_filters2': 38, 'fc1_size': 94, 'lr': 0.00041190328502872564}. Best is trial 1 with value: -0.593090132916391.\n",
      "[I 2025-05-31 17:41:39,950] Trial 6 finished with value: 15.735408489971991 and parameters: {'num_filters1': 30, 'num_filters2': 34, 'fc1_size': 63, 'lr': 0.00014148169312921513}. Best is trial 1 with value: -0.593090132916391.\n",
      "[I 2025-05-31 17:41:39,977] Trial 7 finished with value: 17.79171703310276 and parameters: {'num_filters1': 13, 'num_filters2': 36, 'fc1_size': 45, 'lr': 0.00012662463578512622}. Best is trial 1 with value: -0.593090132916391.\n",
      "[I 2025-05-31 17:41:40,007] Trial 8 finished with value: 3.0167125883936015 and parameters: {'num_filters1': 13, 'num_filters2': 47, 'fc1_size': 118, 'lr': 0.0010257102822911408}. Best is trial 1 with value: -0.593090132916391.\n",
      "[I 2025-05-31 17:41:40,069] Trial 9 finished with value: 22.565788602020298 and parameters: {'num_filters1': 21, 'num_filters2': 24, 'fc1_size': 54, 'lr': 0.00010606177414414567}. Best is trial 1 with value: -0.593090132916391.\n"
     ]
    },
    {
     "name": "stdout",
     "output_type": "stream",
     "text": [
      "\n",
      "🔥 CNN Ensemble Evaluation:\n",
      "R²: 0.3933\n",
      "MAE: 0.1102\n",
      "MSE: 0.0208\n",
      "Ensemble metrics: {'R²': 0.39333711629576973, 'MAE': 0.11019679765658241, 'MSE': 0.020772726309821073}\n",
      "Single CNN Predictions: [4861.7197   4278.63       18.240555   94.019936  139.47878 ]\n",
      "Averaged Ensemble Predictions: [4861.7197   4278.63       18.240555   94.019936  139.47878 ]\n"
     ]
    },
    {
     "ename": "ValueError",
     "evalue": "shapes (17,5) and (6,) not aligned: 5 (dim 1) != 6 (dim 0)",
     "output_type": "error",
     "traceback": [
      "\u001b[0;31m---------------------------------------------------------------------------\u001b[0m",
      "\u001b[0;31mValueError\u001b[0m                                Traceback (most recent call last)",
      "Cell \u001b[0;32mIn[5], line 37\u001b[0m\n\u001b[1;32m     35\u001b[0m \u001b[38;5;66;03m# 🔍 5. Load and test OLS model prediction\u001b[39;00m\n\u001b[1;32m     36\u001b[0m models, scaler_X, scaler_y \u001b[38;5;241m=\u001b[39m load_model_bundle(\u001b[38;5;124m\"\u001b[39m\u001b[38;5;124mbest_ols_model.joblib\u001b[39m\u001b[38;5;124m\"\u001b[39m)\n\u001b[0;32m---> 37\u001b[0m ols_preds \u001b[38;5;241m=\u001b[39m predict_fire_risk(models[\u001b[38;5;241m0\u001b[39m], scaler_X, scaler_y, \u001b[38;5;124m\"\u001b[39m\u001b[38;5;124mexample_data_test.xlsx\u001b[39m\u001b[38;5;124m\"\u001b[39m)\n\u001b[1;32m     38\u001b[0m \u001b[38;5;28mprint\u001b[39m(\u001b[38;5;124m\"\u001b[39m\u001b[38;5;124mOLS Predictions:\u001b[39m\u001b[38;5;124m\"\u001b[39m, ols_preds[:\u001b[38;5;241m5\u001b[39m])\n\u001b[1;32m     40\u001b[0m \u001b[38;5;66;03m# 📊 6. Generate CNN surface plot\u001b[39;00m\n",
      "File \u001b[0;32m/opt/anaconda3/lib/python3.12/site-packages/regressorpipeline/predict.py:33\u001b[0m, in \u001b[0;36mpredict_fire_risk\u001b[0;34m(model, scaler_X, scaler_y, input_path)\u001b[0m\n\u001b[1;32m     31\u001b[0m         preds \u001b[38;5;241m=\u001b[39m model(torch\u001b[38;5;241m.\u001b[39mtensor(X_scaled, dtype\u001b[38;5;241m=\u001b[39mtorch\u001b[38;5;241m.\u001b[39mfloat32)\u001b[38;5;241m.\u001b[39munsqueeze(\u001b[38;5;241m1\u001b[39m))\u001b[38;5;241m.\u001b[39mnumpy()\n\u001b[1;32m     32\u001b[0m \u001b[38;5;28;01melse\u001b[39;00m:\n\u001b[0;32m---> 33\u001b[0m     preds \u001b[38;5;241m=\u001b[39m model\u001b[38;5;241m.\u001b[39mpredict(X_scaled)\n\u001b[1;32m     35\u001b[0m preds \u001b[38;5;241m=\u001b[39m np\u001b[38;5;241m.\u001b[39mexpm1(scaler_y\u001b[38;5;241m.\u001b[39minverse_transform(preds\u001b[38;5;241m.\u001b[39mreshape(\u001b[38;5;241m-\u001b[39m\u001b[38;5;241m1\u001b[39m, \u001b[38;5;241m1\u001b[39m)))\u001b[38;5;241m.\u001b[39mravel()\n\u001b[1;32m     36\u001b[0m \u001b[38;5;28;01mreturn\u001b[39;00m preds\n",
      "File \u001b[0;32m/opt/anaconda3/lib/python3.12/site-packages/statsmodels/base/model.py:1174\u001b[0m, in \u001b[0;36mResults.predict\u001b[0;34m(self, exog, transform, *args, **kwargs)\u001b[0m\n\u001b[1;32m   1127\u001b[0m \u001b[38;5;250m\u001b[39m\u001b[38;5;124;03m\"\"\"\u001b[39;00m\n\u001b[1;32m   1128\u001b[0m \u001b[38;5;124;03mCall self.model.predict with self.params as the first argument.\u001b[39;00m\n\u001b[1;32m   1129\u001b[0m \n\u001b[0;32m   (...)\u001b[0m\n\u001b[1;32m   1169\u001b[0m \u001b[38;5;124;03mreturned prediction.\u001b[39;00m\n\u001b[1;32m   1170\u001b[0m \u001b[38;5;124;03m\"\"\"\u001b[39;00m\n\u001b[1;32m   1171\u001b[0m exog, exog_index \u001b[38;5;241m=\u001b[39m \u001b[38;5;28mself\u001b[39m\u001b[38;5;241m.\u001b[39m_transform_predict_exog(exog,\n\u001b[1;32m   1172\u001b[0m                                                 transform\u001b[38;5;241m=\u001b[39mtransform)\n\u001b[0;32m-> 1174\u001b[0m predict_results \u001b[38;5;241m=\u001b[39m \u001b[38;5;28mself\u001b[39m\u001b[38;5;241m.\u001b[39mmodel\u001b[38;5;241m.\u001b[39mpredict(\u001b[38;5;28mself\u001b[39m\u001b[38;5;241m.\u001b[39mparams, exog, \u001b[38;5;241m*\u001b[39margs,\n\u001b[1;32m   1175\u001b[0m                                      \u001b[38;5;241m*\u001b[39m\u001b[38;5;241m*\u001b[39mkwargs)\n\u001b[1;32m   1177\u001b[0m \u001b[38;5;28;01mif\u001b[39;00m exog_index \u001b[38;5;129;01mis\u001b[39;00m \u001b[38;5;129;01mnot\u001b[39;00m \u001b[38;5;28;01mNone\u001b[39;00m \u001b[38;5;129;01mand\u001b[39;00m \u001b[38;5;129;01mnot\u001b[39;00m \u001b[38;5;28mhasattr\u001b[39m(predict_results,\n\u001b[1;32m   1178\u001b[0m                                           \u001b[38;5;124m'\u001b[39m\u001b[38;5;124mpredicted_values\u001b[39m\u001b[38;5;124m'\u001b[39m):\n\u001b[1;32m   1179\u001b[0m     \u001b[38;5;28;01mif\u001b[39;00m predict_results\u001b[38;5;241m.\u001b[39mndim \u001b[38;5;241m==\u001b[39m \u001b[38;5;241m1\u001b[39m:\n",
      "File \u001b[0;32m/opt/anaconda3/lib/python3.12/site-packages/statsmodels/regression/linear_model.py:412\u001b[0m, in \u001b[0;36mRegressionModel.predict\u001b[0;34m(self, params, exog)\u001b[0m\n\u001b[1;32m    409\u001b[0m \u001b[38;5;28;01mif\u001b[39;00m exog \u001b[38;5;129;01mis\u001b[39;00m \u001b[38;5;28;01mNone\u001b[39;00m:\n\u001b[1;32m    410\u001b[0m     exog \u001b[38;5;241m=\u001b[39m \u001b[38;5;28mself\u001b[39m\u001b[38;5;241m.\u001b[39mexog\n\u001b[0;32m--> 412\u001b[0m \u001b[38;5;28;01mreturn\u001b[39;00m np\u001b[38;5;241m.\u001b[39mdot(exog, params)\n",
      "\u001b[0;31mValueError\u001b[0m: shapes (17,5) and (6,) not aligned: 5 (dim 1) != 6 (dim 0)"
     ]
    }
   ],
   "source": [
    "# ✅ Test paths\n",
    "train_path = \"example_data_train.xlsx\"\n",
    "test_path = \"example_data_test.xlsx\"\n",
    "\n",
    "from regressorpipeline.train import train_fire_model, train_multiple_cnn_for_fire\n",
    "from regressorpipeline.predict import (\n",
    "    load_model_bundle,\n",
    "    predict_fire_risk,\n",
    "    predict_fire_risk_from_models,\n",
    ")\n",
    "from regressorpipeline.visualize import plot_fire_risk_surface_matplotlib\n",
    "import pandas as pd\n",
    "import numpy as np\n",
    "\n",
    "# 🔧 1. Train and evaluate a single CNN model\n",
    "model, metrics = train_fire_model(\"cnn\", train_path, save=True)\n",
    "print(\"Single CNN model metrics:\", metrics)\n",
    "\n",
    "# 🔧 2. Train CNN ensemble (3 runs) and save\n",
    "models, metrics_list, ensemble_metrics = train_multiple_cnn_for_fire(\n",
    "    \"example_data_train.xlsx\", n_runs=3, save=True\n",
    ")\n",
    "print(\"Ensemble metrics:\", ensemble_metrics)\n",
    "\n",
    "# 🔍 3. Load and test prediction (single CNN model)\n",
    "models, scaler_X, scaler_y = load_model_bundle(\"best_cnn_model.joblib\")\n",
    "preds = predict_fire_risk(models[0], scaler_X, scaler_y, \"example_data_test.xlsx\")\n",
    "print(\"Single CNN Predictions:\", preds[:5])\n",
    "\n",
    "# 🔍 4. Load and test ensemble prediction\n",
    "models, scaler_X, scaler_y = load_model_bundle(\"cnn_ensemble.joblib\")\n",
    "avg_preds = predict_fire_risk_from_models(models, scaler_X, scaler_y, \"example_data_test.xlsx\")\n",
    "print(\"Averaged Ensemble Predictions:\", avg_preds[:5])\n",
    "\n",
    "# 🔍 5. Load and test OLS model prediction\n",
    "models, scaler_X, scaler_y = load_model_bundle(\"best_ols_model.joblib\")\n",
    "ols_preds = predict_fire_risk(models[0], scaler_X, scaler_y, \"example_data_test.xlsx\")\n",
    "print(\"OLS Predictions:\", ols_preds[:5])\n",
    "\n",
    "# 📊 6. Generate CNN surface plot\n",
    "df = pd.read_excel(test_path, engine=\"openpyxl\")\n",
    "X_scaled_df = pd.DataFrame(\n",
    "    scaler_X.transform(np.log1p(df.select_dtypes(include=\"number\"))),\n",
    "    columns=df.select_dtypes(include=\"number\").columns\n",
    ")\n",
    "\n",
    "plot_fire_risk_surface_matplotlib(\n",
    "    model=models[0],\n",
    "    X_scaled_df=X_scaled_df,\n",
    "    scaler_X=scaler_X,\n",
    "    scaler_y=scaler_y,\n",
    "    feat1_name=\"Thermal Inertia\",  # must match feature name\n",
    "    feat2_name=\"HRRPUA\",           # must match feature name\n",
    "    title=\"CNN Prediction Surface\",\n",
    "    save_path=\"examples/cnn_surface.html\"\n",
    ")\n",
    "print(\"✅ Surface plot saved to examples/cnn_surface.html\")\n",
    "\n"
   ]
  },
  {
   "cell_type": "code",
   "execution_count": null,
   "id": "5b658887",
   "metadata": {},
   "outputs": [],
   "source": []
  }
 ],
 "metadata": {
  "kernelspec": {
   "display_name": "base",
   "language": "python",
   "name": "python3"
  },
  "language_info": {
   "codemirror_mode": {
    "name": "ipython",
    "version": 3
   },
   "file_extension": ".py",
   "mimetype": "text/x-python",
   "name": "python",
   "nbconvert_exporter": "python",
   "pygments_lexer": "ipython3",
   "version": "3.12.4"
  }
 },
 "nbformat": 4,
 "nbformat_minor": 5
}
