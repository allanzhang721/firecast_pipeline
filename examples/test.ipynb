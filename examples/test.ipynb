{
 "cells": [
  {
   "cell_type": "code",
   "execution_count": 1,
   "id": "73fa91c4",
   "metadata": {},
   "outputs": [],
   "source": [
    "# 🔁 Import pipeline components\n",
    "from regressorpipeline.train import train_fire_model, train_multiple_cnn_for_fire\n",
    "from regressorpipeline.predict import (\n",
    "    load_model_bundle,\n",
    "    predict_fire_risk,\n",
    "    predict_fire_risk_from_models,\n",
    ")\n",
    "from regressorpipeline.visualize import plot_fire_risk_surface_matplotlib\n",
    "\n",
    "import pandas as pd\n",
    "import os\n"
   ]
  },
  {
   "cell_type": "code",
   "execution_count": 2,
   "id": "a8816b35",
   "metadata": {},
   "outputs": [
    {
     "name": "stderr",
     "output_type": "stream",
     "text": [
      "[I 2025-05-31 17:20:54,288] A new study created in memory with name: no-name-92b472e6-4686-419d-8520-fa6d09ccc17c\n",
      "[I 2025-05-31 17:20:54,893] Trial 0 finished with value: -0.27954005910285584 and parameters: {'num_filters1': 8, 'num_filters2': 21, 'fc1_size': 86, 'lr': 0.0053189041123958515}. Best is trial 0 with value: -0.27954005910285584.\n",
      "[I 2025-05-31 17:20:54,923] Trial 1 finished with value: 1.3859356455264602 and parameters: {'num_filters1': 11, 'num_filters2': 20, 'fc1_size': 51, 'lr': 0.0012370683902036147}. Best is trial 0 with value: -0.27954005910285584.\n",
      "[I 2025-05-31 17:20:54,952] Trial 2 finished with value: 0.5405060021613872 and parameters: {'num_filters1': 19, 'num_filters2': 35, 'fc1_size': 56, 'lr': 0.002769200647787012}. Best is trial 0 with value: -0.27954005910285584.\n",
      "[I 2025-05-31 17:20:54,984] Trial 3 finished with value: 8.833173837532572 and parameters: {'num_filters1': 27, 'num_filters2': 49, 'fc1_size': 76, 'lr': 0.00048730677905509914}. Best is trial 0 with value: -0.27954005910285584.\n",
      "[I 2025-05-31 17:20:55,015] Trial 4 finished with value: 12.593354726310864 and parameters: {'num_filters1': 21, 'num_filters2': 45, 'fc1_size': 107, 'lr': 0.00013371820109766135}. Best is trial 0 with value: -0.27954005910285584.\n",
      "[I 2025-05-31 17:20:55,045] Trial 5 finished with value: 9.822115571987672 and parameters: {'num_filters1': 31, 'num_filters2': 21, 'fc1_size': 94, 'lr': 0.00022835265281018286}. Best is trial 0 with value: -0.27954005910285584.\n",
      "[I 2025-05-31 17:20:55,076] Trial 6 finished with value: -0.6346353709835088 and parameters: {'num_filters1': 22, 'num_filters2': 46, 'fc1_size': 115, 'lr': 0.0025736951479701313}. Best is trial 6 with value: -0.6346353709835088.\n",
      "[I 2025-05-31 17:20:55,105] Trial 7 finished with value: 0.9240766631424746 and parameters: {'num_filters1': 30, 'num_filters2': 21, 'fc1_size': 33, 'lr': 0.0013424273814636217}. Best is trial 6 with value: -0.6346353709835088.\n",
      "[I 2025-05-31 17:20:55,134] Trial 8 finished with value: -0.3686774831280373 and parameters: {'num_filters1': 27, 'num_filters2': 31, 'fc1_size': 40, 'lr': 0.001019335047828628}. Best is trial 6 with value: -0.6346353709835088.\n",
      "[I 2025-05-31 17:20:55,161] Trial 9 finished with value: 1.3383326530554545 and parameters: {'num_filters1': 15, 'num_filters2': 30, 'fc1_size': 114, 'lr': 0.0012006248123360944}. Best is trial 6 with value: -0.6346353709835088.\n"
     ]
    },
    {
     "name": "stdout",
     "output_type": "stream",
     "text": [
      "\n",
      "🔥 Model 'cnn' Evaluation:\n",
      "R²: 0.0515\n",
      "MAE: 0.1428\n",
      "MSE: 0.0325\n",
      "Single CNN model metrics: {'R²': 0.05148004952502139, 'MAE': 0.14280176, 'MSE': 0.032478243}\n"
     ]
    },
    {
     "ename": "TypeError",
     "evalue": "train_multiple_cnn_for_fire() got an unexpected keyword argument 'save_path'",
     "output_type": "error",
     "traceback": [
      "\u001b[0;31m---------------------------------------------------------------------------\u001b[0m",
      "\u001b[0;31mTypeError\u001b[0m                                 Traceback (most recent call last)",
      "Cell \u001b[0;32mIn[2], line 23\u001b[0m\n\u001b[1;32m     20\u001b[0m \u001b[38;5;28mprint\u001b[39m(\u001b[38;5;124m\"\u001b[39m\u001b[38;5;124mSingle CNN model metrics:\u001b[39m\u001b[38;5;124m\"\u001b[39m, metrics)\n\u001b[1;32m     22\u001b[0m \u001b[38;5;66;03m# 🔧 2. Train CNN ensemble (3 runs) and save\u001b[39;00m\n\u001b[0;32m---> 23\u001b[0m models, metrics_list, ensemble_metrics \u001b[38;5;241m=\u001b[39m train_multiple_cnn_for_fire(\n\u001b[1;32m     24\u001b[0m     train_path, n_runs\u001b[38;5;241m=\u001b[39m\u001b[38;5;241m3\u001b[39m, save_path\u001b[38;5;241m=\u001b[39mensemble_model_path\n\u001b[1;32m     25\u001b[0m )\n\u001b[1;32m     26\u001b[0m \u001b[38;5;28mprint\u001b[39m(\u001b[38;5;124m\"\u001b[39m\u001b[38;5;124mEnsemble metrics:\u001b[39m\u001b[38;5;124m\"\u001b[39m, ensemble_metrics)\n\u001b[1;32m     28\u001b[0m \u001b[38;5;66;03m# 🔍 3. Load and test prediction (single model)\u001b[39;00m\n",
      "\u001b[0;31mTypeError\u001b[0m: train_multiple_cnn_for_fire() got an unexpected keyword argument 'save_path'"
     ]
    }
   ],
   "source": [
    "# ✅ Test paths\n",
    "train_path = \"example_data_train.xlsx\"\n",
    "test_path = \"example_data_test.xlsx\"\n",
    "cnn_model_path = \"best_cnn_model.joblib\"\n",
    "ols_model_path = \"best_ols_model.joblib\"\n",
    "ensemble_model_path = \"cnn_ensemble.joblib\"\n",
    "\n",
    "from regressorpipeline.train import train_fire_model, train_multiple_cnn_for_fire\n",
    "from regressorpipeline.predict import (\n",
    "    load_model_bundle,\n",
    "    predict_fire_risk,\n",
    "    predict_fire_risk_from_models,\n",
    ")\n",
    "from regressorpipeline.visualize import plot_fire_risk_surface_matplotlib\n",
    "import pandas as pd\n",
    "import numpy as np\n",
    "\n",
    "# 🔧 1. Train and evaluate a single CNN model\n",
    "model, metrics = train_fire_model(\"cnn\", train_path, save=True)\n",
    "print(\"Single CNN model metrics:\", metrics)\n",
    "\n",
    "# 🔧 2. Train CNN ensemble (3 runs) and save\n",
    "models, metrics_list, ensemble_metrics = train_multiple_cnn_for_fire(\n",
    "    train_path, n_runs=3, save_path=ensemble_model_path\n",
    ")\n",
    "print(\"Ensemble metrics:\", ensemble_metrics)\n",
    "\n",
    "# 🔍 3. Load and test prediction (single model)\n",
    "models, scaler_X, scaler_y = load_model_bundle(cnn_model_path)\n",
    "preds = predict_fire_risk(models[0], scaler_X, scaler_y, test_path)\n",
    "print(\"Single CNN Predictions:\", preds[:5])\n",
    "\n",
    "# 🔍 4. Load and test ensemble prediction\n",
    "models, scaler_X, scaler_y = load_model_bundle(ensemble_model_path)\n",
    "avg_preds = predict_fire_risk_from_models(models, scaler_X, scaler_y, test_path)\n",
    "print(\"Averaged Ensemble Predictions:\", avg_preds[:5])\n",
    "\n",
    "# 🔍 5. Load and test OLS model prediction\n",
    "models, scaler_X, scaler_y = load_model_bundle(ols_model_path)\n",
    "ols_preds = predict_fire_risk(models[0], scaler_X, scaler_y, test_path)\n",
    "print(\"OLS Predictions:\", ols_preds[:5])\n",
    "\n",
    "# 📊 6. Generate CNN surface plot\n",
    "df = pd.read_excel(test_path, engine=\"openpyxl\")\n",
    "X_scaled_df = pd.DataFrame(\n",
    "    scaler_X.transform(np.log1p(df.select_dtypes(include=\"number\"))),\n",
    "    columns=df.select_dtypes(include=\"number\").columns\n",
    ")\n",
    "\n",
    "plot_fire_risk_surface_matplotlib(\n",
    "    model=models[0],\n",
    "    X_scaled_df=X_scaled_df,\n",
    "    scaler_X=scaler_X,\n",
    "    scaler_y=scaler_y,\n",
    "    feat1_name=\"Thermal Inertia\",  # must match feature name\n",
    "    feat2_name=\"HRRPUA\",           # must match feature name\n",
    "    title=\"CNN Prediction Surface\",\n",
    "    save_path=\"examples/cnn_surface.html\"\n",
    ")\n",
    "print(\"✅ Surface plot saved to examples/cnn_surface.html\")\n",
    "\n"
   ]
  },
  {
   "cell_type": "code",
   "execution_count": null,
   "id": "5b658887",
   "metadata": {},
   "outputs": [],
   "source": []
  }
 ],
 "metadata": {
  "kernelspec": {
   "display_name": "base",
   "language": "python",
   "name": "python3"
  },
  "language_info": {
   "codemirror_mode": {
    "name": "ipython",
    "version": 3
   },
   "file_extension": ".py",
   "mimetype": "text/x-python",
   "name": "python",
   "nbconvert_exporter": "python",
   "pygments_lexer": "ipython3",
   "version": "3.12.4"
  }
 },
 "nbformat": 4,
 "nbformat_minor": 5
}
