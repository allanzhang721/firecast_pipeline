{
 "cells": [
  {
   "cell_type": "code",
   "execution_count": 1,
   "id": "73fa91c4",
   "metadata": {},
   "outputs": [],
   "source": [
    "# 🔁 Import pipeline components\n",
    "from regressorpipeline.train import train_fire_model, train_multiple_cnn_for_fire\n",
    "from regressorpipeline.predict import (\n",
    "    load_model_bundle,\n",
    "    predict_fire_risk,\n",
    "    predict_fire_risk_from_models,\n",
    ")\n",
    "from regressorpipeline.visualize import plot_fire_risk_surface_matplotlib\n",
    "\n",
    "import pandas as pd\n",
    "import os\n"
   ]
  },
  {
   "cell_type": "code",
   "execution_count": 3,
   "id": "a8816b35",
   "metadata": {},
   "outputs": [
    {
     "name": "stderr",
     "output_type": "stream",
     "text": [
      "[I 2025-05-31 17:09:10,756] A new study created in memory with name: no-name-18e56d22-5b5d-4f6d-8fd4-0430222353b7\n",
      "[I 2025-05-31 17:09:11,604] Trial 0 finished with value: 3.4221838948032923 and parameters: {'num_filters1': 15, 'num_filters2': 25, 'fc1_size': 105, 'lr': 0.0004940481730904973}. Best is trial 0 with value: 3.4221838948032923.\n",
      "[I 2025-05-31 17:09:11,640] Trial 1 finished with value: -0.1468997844240083 and parameters: {'num_filters1': 14, 'num_filters2': 16, 'fc1_size': 124, 'lr': 0.004194592142752112}. Best is trial 1 with value: -0.1468997844240083.\n",
      "[I 2025-05-31 17:09:11,709] Trial 2 finished with value: 14.947005827805762 and parameters: {'num_filters1': 10, 'num_filters2': 17, 'fc1_size': 122, 'lr': 0.0004561769085659041}. Best is trial 1 with value: -0.1468997844240083.\n",
      "[I 2025-05-31 17:09:11,769] Trial 3 finished with value: 2.5097899822136363 and parameters: {'num_filters1': 10, 'num_filters2': 34, 'fc1_size': 92, 'lr': 0.0008371283144621405}. Best is trial 1 with value: -0.1468997844240083.\n",
      "[I 2025-05-31 17:09:11,845] Trial 4 finished with value: 1.1249946003490034 and parameters: {'num_filters1': 8, 'num_filters2': 57, 'fc1_size': 117, 'lr': 0.0018279710368307896}. Best is trial 1 with value: -0.1468997844240083.\n",
      "[I 2025-05-31 17:09:11,898] Trial 5 finished with value: 13.10321878049008 and parameters: {'num_filters1': 9, 'num_filters2': 48, 'fc1_size': 72, 'lr': 0.0003719624698492579}. Best is trial 1 with value: -0.1468997844240083.\n",
      "[I 2025-05-31 17:09:11,956] Trial 6 finished with value: -0.650137878055556 and parameters: {'num_filters1': 32, 'num_filters2': 55, 'fc1_size': 58, 'lr': 0.0014375731473916492}. Best is trial 6 with value: -0.650137878055556.\n",
      "[I 2025-05-31 17:09:12,002] Trial 7 finished with value: 0.029834727596697697 and parameters: {'num_filters1': 23, 'num_filters2': 21, 'fc1_size': 89, 'lr': 0.0013873648078934913}. Best is trial 6 with value: -0.650137878055556.\n",
      "[I 2025-05-31 17:09:12,031] Trial 8 finished with value: 5.730293634713875 and parameters: {'num_filters1': 21, 'num_filters2': 31, 'fc1_size': 87, 'lr': 0.000154225909669616}. Best is trial 6 with value: -0.650137878055556.\n",
      "[I 2025-05-31 17:09:12,061] Trial 9 finished with value: 11.634612083431486 and parameters: {'num_filters1': 13, 'num_filters2': 61, 'fc1_size': 76, 'lr': 0.0005692063969338081}. Best is trial 6 with value: -0.650137878055556.\n",
      "[I 2025-05-31 17:09:12,101] A new study created in memory with name: no-name-7792ec3a-9a1e-4706-9754-71654fbaaddb\n",
      "[I 2025-05-31 17:09:12,138] Trial 0 finished with value: -0.4489087446829456 and parameters: {'num_filters1': 25, 'num_filters2': 63, 'fc1_size': 73, 'lr': 0.002223806383387421}. Best is trial 0 with value: -0.4489087446829456.\n",
      "[I 2025-05-31 17:09:12,171] Trial 1 finished with value: 0.18751431452225953 and parameters: {'num_filters1': 14, 'num_filters2': 47, 'fc1_size': 46, 'lr': 0.0045203338816515205}. Best is trial 0 with value: -0.4489087446829456.\n",
      "[I 2025-05-31 17:09:12,200] Trial 2 finished with value: 13.306640809177354 and parameters: {'num_filters1': 9, 'num_filters2': 24, 'fc1_size': 112, 'lr': 0.00016747412355505215}. Best is trial 0 with value: -0.4489087446829456.\n",
      "[I 2025-05-31 17:09:12,229] Trial 3 finished with value: 9.838437507462837 and parameters: {'num_filters1': 14, 'num_filters2': 16, 'fc1_size': 98, 'lr': 0.000694122049192164}. Best is trial 0 with value: -0.4489087446829456.\n",
      "[I 2025-05-31 17:09:12,267] Trial 4 finished with value: -0.5899702408827434 and parameters: {'num_filters1': 18, 'num_filters2': 60, 'fc1_size': 102, 'lr': 0.0017288850500169189}. Best is trial 4 with value: -0.5899702408827434.\n"
     ]
    },
    {
     "name": "stdout",
     "output_type": "stream",
     "text": [
      "\n",
      "🔥 Model 'cnn' Evaluation:\n",
      "R²: 0.7310\n",
      "MAE: 0.0789\n",
      "MSE: 0.0092\n",
      "Single CNN model metrics: {'R²': 0.731007651186814, 'MAE': 0.0788968, 'MSE': 0.009210559}\n"
     ]
    },
    {
     "name": "stderr",
     "output_type": "stream",
     "text": [
      "[I 2025-05-31 17:09:12,343] Trial 5 finished with value: 2.008484922434741 and parameters: {'num_filters1': 11, 'num_filters2': 61, 'fc1_size': 45, 'lr': 0.0018243277468164675}. Best is trial 4 with value: -0.5899702408827434.\n",
      "[I 2025-05-31 17:09:12,397] Trial 6 finished with value: 13.704047586969992 and parameters: {'num_filters1': 10, 'num_filters2': 57, 'fc1_size': 69, 'lr': 0.00015857199200549043}. Best is trial 4 with value: -0.5899702408827434.\n",
      "[I 2025-05-31 17:09:12,428] Trial 7 finished with value: 3.547464835047143 and parameters: {'num_filters1': 24, 'num_filters2': 56, 'fc1_size': 85, 'lr': 0.00046241005047779784}. Best is trial 4 with value: -0.5899702408827434.\n",
      "[I 2025-05-31 17:09:12,455] Trial 8 finished with value: 19.199961594844517 and parameters: {'num_filters1': 17, 'num_filters2': 32, 'fc1_size': 86, 'lr': 0.0002876288924627443}. Best is trial 4 with value: -0.5899702408827434.\n",
      "[I 2025-05-31 17:09:12,490] Trial 9 finished with value: 15.414185401673606 and parameters: {'num_filters1': 29, 'num_filters2': 52, 'fc1_size': 95, 'lr': 0.00021648332208169682}. Best is trial 4 with value: -0.5899702408827434.\n",
      "[I 2025-05-31 17:09:12,521] A new study created in memory with name: no-name-fd10569c-d0ba-40f7-8852-6554ae12fa4d\n",
      "[I 2025-05-31 17:09:12,548] Trial 0 finished with value: -0.7712163511065855 and parameters: {'num_filters1': 21, 'num_filters2': 16, 'fc1_size': 60, 'lr': 0.0031378989289866763}. Best is trial 0 with value: -0.7712163511065855.\n",
      "[I 2025-05-31 17:09:12,575] Trial 1 finished with value: 10.982018368861654 and parameters: {'num_filters1': 18, 'num_filters2': 40, 'fc1_size': 37, 'lr': 0.00016443438190677997}. Best is trial 0 with value: -0.7712163511065855.\n",
      "[I 2025-05-31 17:09:12,610] Trial 2 finished with value: 8.898773543704115 and parameters: {'num_filters1': 30, 'num_filters2': 51, 'fc1_size': 106, 'lr': 0.00011612762681529828}. Best is trial 0 with value: -0.7712163511065855.\n",
      "[I 2025-05-31 17:09:12,640] Trial 3 finished with value: 5.92428551720043 and parameters: {'num_filters1': 12, 'num_filters2': 45, 'fc1_size': 59, 'lr': 0.0006004203834614581}. Best is trial 0 with value: -0.7712163511065855.\n",
      "[I 2025-05-31 17:09:12,668] Trial 4 finished with value: 0.002897736127506878 and parameters: {'num_filters1': 31, 'num_filters2': 19, 'fc1_size': 70, 'lr': 0.001159486740373394}. Best is trial 0 with value: -0.7712163511065855.\n",
      "[I 2025-05-31 17:09:12,702] Trial 5 finished with value: 0.1969013704540694 and parameters: {'num_filters1': 26, 'num_filters2': 48, 'fc1_size': 110, 'lr': 0.0009683882953930806}. Best is trial 0 with value: -0.7712163511065855.\n",
      "[I 2025-05-31 17:09:12,745] Trial 6 finished with value: 1.9719728722260483 and parameters: {'num_filters1': 21, 'num_filters2': 32, 'fc1_size': 65, 'lr': 0.00083470255344813}. Best is trial 0 with value: -0.7712163511065855.\n",
      "[I 2025-05-31 17:09:12,783] Trial 7 finished with value: 11.050885617220393 and parameters: {'num_filters1': 31, 'num_filters2': 17, 'fc1_size': 97, 'lr': 0.00013301889079899313}. Best is trial 0 with value: -0.7712163511065855.\n",
      "[I 2025-05-31 17:09:12,819] Trial 8 finished with value: 7.023737071911441 and parameters: {'num_filters1': 27, 'num_filters2': 29, 'fc1_size': 80, 'lr': 0.00021639297108707353}. Best is trial 0 with value: -0.7712163511065855.\n",
      "[I 2025-05-31 17:09:12,849] Trial 9 finished with value: 1.362676317108428 and parameters: {'num_filters1': 15, 'num_filters2': 19, 'fc1_size': 121, 'lr': 0.00842067324153736}. Best is trial 0 with value: -0.7712163511065855.\n",
      "[I 2025-05-31 17:09:12,879] A new study created in memory with name: no-name-a6781a57-6319-4bc5-a9ec-1b923f7da405\n",
      "[I 2025-05-31 17:09:12,912] Trial 0 finished with value: 15.013141455393686 and parameters: {'num_filters1': 19, 'num_filters2': 29, 'fc1_size': 96, 'lr': 0.00011967677959355297}. Best is trial 0 with value: 15.013141455393686.\n",
      "[I 2025-05-31 17:09:12,941] Trial 1 finished with value: 9.886930539647013 and parameters: {'num_filters1': 11, 'num_filters2': 48, 'fc1_size': 75, 'lr': 0.00030715134786727337}. Best is trial 1 with value: 9.886930539647013.\n",
      "[I 2025-05-31 17:09:12,979] Trial 2 finished with value: 13.917292578057143 and parameters: {'num_filters1': 32, 'num_filters2': 57, 'fc1_size': 95, 'lr': 0.00019262932123501929}. Best is trial 1 with value: 9.886930539647013.\n",
      "[I 2025-05-31 17:09:13,012] Trial 3 finished with value: 1.0636784576386433 and parameters: {'num_filters1': 23, 'num_filters2': 50, 'fc1_size': 63, 'lr': 0.0009084482883719465}. Best is trial 3 with value: 1.0636784576386433.\n",
      "[I 2025-05-31 17:09:13,038] Trial 4 finished with value: -0.11141956001984632 and parameters: {'num_filters1': 21, 'num_filters2': 18, 'fc1_size': 128, 'lr': 0.0057969149016794605}. Best is trial 4 with value: -0.11141956001984632.\n",
      "[I 2025-05-31 17:09:13,069] Trial 5 finished with value: 8.308360811619108 and parameters: {'num_filters1': 9, 'num_filters2': 34, 'fc1_size': 123, 'lr': 0.0005608929745900065}. Best is trial 4 with value: -0.11141956001984632.\n",
      "[I 2025-05-31 17:09:13,103] Trial 6 finished with value: 0.13503749286442868 and parameters: {'num_filters1': 31, 'num_filters2': 57, 'fc1_size': 84, 'lr': 0.005564434007259501}. Best is trial 4 with value: -0.11141956001984632.\n",
      "[I 2025-05-31 17:09:13,139] Trial 7 finished with value: 2.5004731945135017 and parameters: {'num_filters1': 19, 'num_filters2': 26, 'fc1_size': 75, 'lr': 0.0008215987109005191}. Best is trial 4 with value: -0.11141956001984632.\n",
      "[I 2025-05-31 17:09:13,166] Trial 8 finished with value: 20.337136884775727 and parameters: {'num_filters1': 11, 'num_filters2': 27, 'fc1_size': 37, 'lr': 0.00018588589578244328}. Best is trial 4 with value: -0.11141956001984632.\n",
      "[I 2025-05-31 17:09:13,194] Trial 9 finished with value: -0.25173484053018125 and parameters: {'num_filters1': 16, 'num_filters2': 33, 'fc1_size': 58, 'lr': 0.0010267817147461271}. Best is trial 9 with value: -0.25173484053018125.\n"
     ]
    },
    {
     "name": "stdout",
     "output_type": "stream",
     "text": [
      "Ensemble metrics: {'R²': 0.5742741540704973, 'MAE': 0.10247957445324403, 'MSE': 0.014577266416091026}\n",
      "Single CNN Predictions: [4861.7197   4278.63       18.240555   94.019936  139.47878 ]\n"
     ]
    },
    {
     "ename": "FileNotFoundError",
     "evalue": "[Errno 2] No such file or directory: 'cnn_ensemble.joblib'",
     "output_type": "error",
     "traceback": [
      "\u001b[0;31m---------------------------------------------------------------------------\u001b[0m",
      "\u001b[0;31mFileNotFoundError\u001b[0m                         Traceback (most recent call last)",
      "Cell \u001b[0;32mIn[3], line 24\u001b[0m\n\u001b[1;32m     21\u001b[0m \u001b[38;5;28mprint\u001b[39m(\u001b[38;5;124m\"\u001b[39m\u001b[38;5;124mSingle CNN Predictions:\u001b[39m\u001b[38;5;124m\"\u001b[39m, preds[:\u001b[38;5;241m5\u001b[39m])  \u001b[38;5;66;03m# Show sample predictions\u001b[39;00m\n\u001b[1;32m     23\u001b[0m \u001b[38;5;66;03m# 🔍 4. Load and test ensemble prediction\u001b[39;00m\n\u001b[0;32m---> 24\u001b[0m models, scaler_X, scaler_y \u001b[38;5;241m=\u001b[39m load_model_bundle(ensemble_model_path)\n\u001b[1;32m     25\u001b[0m avg_preds \u001b[38;5;241m=\u001b[39m predict_fire_risk_from_models(models, scaler_X, scaler_y, test_path)\n\u001b[1;32m     26\u001b[0m \u001b[38;5;28mprint\u001b[39m(\u001b[38;5;124m\"\u001b[39m\u001b[38;5;124mAveraged Ensemble Predictions:\u001b[39m\u001b[38;5;124m\"\u001b[39m, avg_preds[:\u001b[38;5;241m5\u001b[39m])\n",
      "File \u001b[0;32m/opt/anaconda3/lib/python3.12/site-packages/regressorpipeline/predict.py:78\u001b[0m, in \u001b[0;36mload_model_bundle\u001b[0;34m(model_path)\u001b[0m\n\u001b[1;32m     76\u001b[0m \u001b[38;5;28;01mdef\u001b[39;00m \u001b[38;5;21mload_model_bundle\u001b[39m(model_path):\n\u001b[1;32m     77\u001b[0m \u001b[38;5;250m    \u001b[39m\u001b[38;5;124;03m\"\"\"Utility to load model and scalers from .joblib file.\"\"\"\u001b[39;00m\n\u001b[0;32m---> 78\u001b[0m     bundle \u001b[38;5;241m=\u001b[39m joblib\u001b[38;5;241m.\u001b[39mload(model_path)\n\u001b[1;32m     79\u001b[0m     models \u001b[38;5;241m=\u001b[39m bundle\u001b[38;5;241m.\u001b[39mget(\u001b[38;5;124m\"\u001b[39m\u001b[38;5;124mmodels\u001b[39m\u001b[38;5;124m\"\u001b[39m) \u001b[38;5;129;01mor\u001b[39;00m [bundle[\u001b[38;5;124m\"\u001b[39m\u001b[38;5;124mmodel\u001b[39m\u001b[38;5;124m\"\u001b[39m]]\n\u001b[1;32m     80\u001b[0m     scaler_X \u001b[38;5;241m=\u001b[39m bundle[\u001b[38;5;124m\"\u001b[39m\u001b[38;5;124mscaler_X\u001b[39m\u001b[38;5;124m\"\u001b[39m]\n",
      "File \u001b[0;32m/opt/anaconda3/lib/python3.12/site-packages/joblib/numpy_pickle.py:650\u001b[0m, in \u001b[0;36mload\u001b[0;34m(filename, mmap_mode)\u001b[0m\n\u001b[1;32m    648\u001b[0m         obj \u001b[38;5;241m=\u001b[39m _unpickle(fobj)\n\u001b[1;32m    649\u001b[0m \u001b[38;5;28;01melse\u001b[39;00m:\n\u001b[0;32m--> 650\u001b[0m     \u001b[38;5;28;01mwith\u001b[39;00m \u001b[38;5;28mopen\u001b[39m(filename, \u001b[38;5;124m'\u001b[39m\u001b[38;5;124mrb\u001b[39m\u001b[38;5;124m'\u001b[39m) \u001b[38;5;28;01mas\u001b[39;00m f:\n\u001b[1;32m    651\u001b[0m         \u001b[38;5;28;01mwith\u001b[39;00m _read_fileobject(f, filename, mmap_mode) \u001b[38;5;28;01mas\u001b[39;00m fobj:\n\u001b[1;32m    652\u001b[0m             \u001b[38;5;28;01mif\u001b[39;00m \u001b[38;5;28misinstance\u001b[39m(fobj, \u001b[38;5;28mstr\u001b[39m):\n\u001b[1;32m    653\u001b[0m                 \u001b[38;5;66;03m# if the returned file object is a string, this means we\u001b[39;00m\n\u001b[1;32m    654\u001b[0m                 \u001b[38;5;66;03m# try to load a pickle file generated with an version of\u001b[39;00m\n\u001b[1;32m    655\u001b[0m                 \u001b[38;5;66;03m# Joblib so we load it with joblib compatibility function.\u001b[39;00m\n",
      "\u001b[0;31mFileNotFoundError\u001b[0m: [Errno 2] No such file or directory: 'cnn_ensemble.joblib'"
     ]
    }
   ],
   "source": [
    "# ✅ Test paths\n",
    "train_path = \"example_data_train.xlsx\"\n",
    "test_path = \"example_data_test.xlsx\"\n",
    "cnn_model_path = \"best_cnn_model.joblib\"\n",
    "ols_model_path = \"best_ols_model.joblib\"\n",
    "ensemble_model_path = \"cnn_ensemble.joblib\"\n",
    "\n",
    "# -----------------------------------------------------------\n",
    "# 🔧 1. Train and evaluate a single CNN model\n",
    "model, metrics = train_fire_model(\"cnn\", train_path, save=True)\n",
    "print(\"Single CNN model metrics:\", metrics)\n",
    "\n",
    "# 🔧 2. Train CNN ensemble (3 runs)\n",
    "models, metrics_list, ensemble_metrics = train_multiple_cnn_for_fire(train_path, n_runs=3)\n",
    "print(\"Ensemble metrics:\", ensemble_metrics)\n",
    "\n",
    "# -----------------------------------------------------------\n",
    "# 🔍 3. Load and test prediction (single model)\n",
    "models, scaler_X, scaler_y = load_model_bundle(cnn_model_path)\n",
    "preds = predict_fire_risk(models[0], scaler_X, scaler_y, test_path)\n",
    "print(\"Single CNN Predictions:\", preds[:5])  # Show sample predictions\n",
    "\n",
    "# 🔍 4. Load and test ensemble prediction\n",
    "models, scaler_X, scaler_y = load_model_bundle(ensemble_model_path)\n",
    "avg_preds = predict_fire_risk_from_models(models, scaler_X, scaler_y, test_path)\n",
    "print(\"Averaged Ensemble Predictions:\", avg_preds[:5])\n",
    "\n",
    "# 🔍 5. Load and test OLS model prediction\n",
    "models, scaler_X, scaler_y = load_model_bundle(ols_model_path)\n",
    "ols_preds = predict_fire_risk(models[0], scaler_X, scaler_y, test_path)\n",
    "print(\"OLS Predictions:\", ols_preds[:5])\n",
    "\n",
    "# -----------------------------------------------------------\n",
    "# 📊 6. Generate CNN surface plot (only works with CNN + scaler)\n",
    "df = pd.read_excel(test_path, engine=\"openpyxl\")\n",
    "X_scaled_df = pd.DataFrame(scaler_X.transform(np.log1p(df.select_dtypes(include=\"number\"))),\n",
    "                           columns=df.select_dtypes(include=\"number\").columns)\n",
    "\n",
    "plot_fire_risk_surface_matplotlib(\n",
    "    model=models[0],\n",
    "    X_scaled_df=X_scaled_df,\n",
    "    scaler_X=scaler_X,\n",
    "    scaler_y=scaler_y,\n",
    "    feat1_name=\"Thermal Inertia\",  # must match your feature name\n",
    "    feat2_name=\"HRRPUA\",           # must match your feature name\n",
    "    title=\"CNN Prediction Surface\",\n",
    "    save_path=\"examples/cnn_surface.html\"\n",
    ")\n",
    "print(\"✅ Surface plot saved to examples/cnn_surface.html\")\n",
    "\n"
   ]
  }
 ],
 "metadata": {
  "kernelspec": {
   "display_name": "base",
   "language": "python",
   "name": "python3"
  },
  "language_info": {
   "codemirror_mode": {
    "name": "ipython",
    "version": 3
   },
   "file_extension": ".py",
   "mimetype": "text/x-python",
   "name": "python",
   "nbconvert_exporter": "python",
   "pygments_lexer": "ipython3",
   "version": "3.12.4"
  }
 },
 "nbformat": 4,
 "nbformat_minor": 5
}
