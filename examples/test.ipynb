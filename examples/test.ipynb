{
 "cells": [
  {
   "cell_type": "code",
   "execution_count": 7,
   "id": "52b58214",
   "metadata": {},
   "outputs": [
    {
     "name": "stdout",
     "output_type": "stream",
     "text": [
      "['/Users/allanzhang/Documents/GitHub/firecast_pipeline/examples', '/opt/anaconda3/lib/python312.zip', '/opt/anaconda3/lib/python3.12', '/opt/anaconda3/lib/python3.12/lib-dynload', '', '/opt/anaconda3/lib/python3.12/site-packages', '/opt/anaconda3/lib/python3.12/site-packages/aeosa', '/var/folders/v7/ppg9621s76ddb3zsdn52lt8m0000gn/T/tmpx0wtj1v3']\n"
     ]
    }
   ],
   "source": [
    "import sys\n",
    "print(sys.path)\n"
   ]
  },
  {
   "cell_type": "code",
   "execution_count": 6,
   "id": "a8816b35",
   "metadata": {},
   "outputs": [
    {
     "name": "stderr",
     "output_type": "stream",
     "text": [
      "[I 2025-06-10 15:36:48,706] A new study created in memory with name: no-name-1dbdaf43-b20a-49ad-99aa-bdc093d190c2\n",
      "[I 2025-06-10 15:36:48,797] Trial 0 finished with value: -0.7019086741775664 and parameters: {'num_filters1': 21, 'num_filters2': 53, 'fc1_size': 56, 'lr': 0.0016658762935723992}. Best is trial 0 with value: -0.7019086741775664.\n",
      "[I 2025-06-10 15:36:48,830] Trial 1 finished with value: 5.872742568399288 and parameters: {'num_filters1': 24, 'num_filters2': 53, 'fc1_size': 39, 'lr': 0.0007672544663275102}. Best is trial 0 with value: -0.7019086741775664.\n",
      "[I 2025-06-10 15:36:48,857] Trial 2 finished with value: -0.2162416408654405 and parameters: {'num_filters1': 25, 'num_filters2': 22, 'fc1_size': 92, 'lr': 0.0019361367232212546}. Best is trial 0 with value: -0.7019086741775664.\n",
      "[I 2025-06-10 15:36:48,886] Trial 3 finished with value: -0.6072355671616028 and parameters: {'num_filters1': 8, 'num_filters2': 50, 'fc1_size': 46, 'lr': 0.00441475360968998}. Best is trial 0 with value: -0.7019086741775664.\n",
      "[I 2025-06-10 15:36:48,920] Trial 4 finished with value: 0.23361230479854767 and parameters: {'num_filters1': 25, 'num_filters2': 45, 'fc1_size': 115, 'lr': 0.004718052630047468}. Best is trial 0 with value: -0.7019086741775664.\n",
      "[I 2025-06-10 15:36:48,955] Trial 5 finished with value: 7.15983350461538 and parameters: {'num_filters1': 27, 'num_filters2': 33, 'fc1_size': 112, 'lr': 0.00039516246814640544}. Best is trial 0 with value: -0.7019086741775664.\n",
      "[I 2025-06-10 15:36:48,990] Trial 6 finished with value: 11.81532841883043 and parameters: {'num_filters1': 30, 'num_filters2': 47, 'fc1_size': 73, 'lr': 0.0002519360716774366}. Best is trial 0 with value: -0.7019086741775664.\n",
      "[I 2025-06-10 15:36:49,023] Trial 7 finished with value: -0.17851101053923912 and parameters: {'num_filters1': 23, 'num_filters2': 62, 'fc1_size': 64, 'lr': 0.0017552747392450827}. Best is trial 0 with value: -0.7019086741775664.\n",
      "[I 2025-06-10 15:36:49,053] Trial 8 finished with value: 11.43859346037408 and parameters: {'num_filters1': 28, 'num_filters2': 19, 'fc1_size': 35, 'lr': 0.0005226806078975266}. Best is trial 0 with value: -0.7019086741775664.\n",
      "[I 2025-06-10 15:36:49,081] Trial 9 finished with value: 15.95669403397898 and parameters: {'num_filters1': 17, 'num_filters2': 24, 'fc1_size': 95, 'lr': 0.0004396054082359562}. Best is trial 0 with value: -0.7019086741775664.\n",
      "[I 2025-06-10 15:36:49,126] A new study created in memory with name: no-name-c9978340-2624-4490-a3bf-0c1789c86285\n",
      "[I 2025-06-10 15:36:49,179] Trial 0 finished with value: 0.3221210433752748 and parameters: {'num_filters1': 28, 'num_filters2': 23, 'fc1_size': 126, 'lr': 0.00912340741641692}. Best is trial 0 with value: 0.3221210433752748.\n",
      "[I 2025-06-10 15:36:49,217] Trial 1 finished with value: -0.265432044181232 and parameters: {'num_filters1': 19, 'num_filters2': 55, 'fc1_size': 127, 'lr': 0.001325178641073936}. Best is trial 1 with value: -0.265432044181232.\n",
      "[I 2025-06-10 15:36:49,249] Trial 2 finished with value: 8.310206930388329 and parameters: {'num_filters1': 21, 'num_filters2': 38, 'fc1_size': 111, 'lr': 0.00017662654255095144}. Best is trial 1 with value: -0.265432044181232.\n",
      "[I 2025-06-10 15:36:49,282] Trial 3 finished with value: 8.058169781956305 and parameters: {'num_filters1': 28, 'num_filters2': 43, 'fc1_size': 100, 'lr': 0.00019666608767930245}. Best is trial 1 with value: -0.265432044181232.\n",
      "[I 2025-06-10 15:36:49,313] Trial 4 finished with value: 7.831305699548347 and parameters: {'num_filters1': 13, 'num_filters2': 48, 'fc1_size': 128, 'lr': 0.0003347714003123248}. Best is trial 1 with value: -0.265432044181232.\n"
     ]
    },
    {
     "name": "stdout",
     "output_type": "stream",
     "text": [
      "\n",
      "🔥 Model 'cnn' Evaluation:\n",
      "R²: -0.2117\n",
      "MAE: 0.1764\n",
      "MSE: 0.0415\n",
      "Single CNN model metrics: {'R²': -0.21168472251560355, 'MAE': 0.17638747, 'MSE': 0.041489262}\n"
     ]
    },
    {
     "name": "stderr",
     "output_type": "stream",
     "text": [
      "[I 2025-06-10 15:36:49,350] Trial 5 finished with value: 0.42671421287803324 and parameters: {'num_filters1': 22, 'num_filters2': 57, 'fc1_size': 78, 'lr': 0.006825170712019785}. Best is trial 1 with value: -0.265432044181232.\n",
      "[I 2025-06-10 15:36:49,381] Trial 6 finished with value: 7.458017801676869 and parameters: {'num_filters1': 26, 'num_filters2': 45, 'fc1_size': 126, 'lr': 0.0002715345307540316}. Best is trial 1 with value: -0.265432044181232.\n",
      "[I 2025-06-10 15:36:49,416] Trial 7 finished with value: 12.98674162656328 and parameters: {'num_filters1': 20, 'num_filters2': 63, 'fc1_size': 65, 'lr': 0.00013314443297515372}. Best is trial 1 with value: -0.265432044181232.\n",
      "[I 2025-06-10 15:36:49,442] Trial 8 finished with value: 3.127709854947695 and parameters: {'num_filters1': 15, 'num_filters2': 27, 'fc1_size': 105, 'lr': 0.0007734264778643277}. Best is trial 1 with value: -0.265432044181232.\n",
      "[I 2025-06-10 15:36:49,470] Trial 9 finished with value: 7.473788260133988 and parameters: {'num_filters1': 27, 'num_filters2': 17, 'fc1_size': 79, 'lr': 0.0002916168603782182}. Best is trial 1 with value: -0.265432044181232.\n",
      "[I 2025-06-10 15:36:49,506] A new study created in memory with name: no-name-b5b0a2df-754d-48fa-b6e6-d5df843afeeb\n",
      "[I 2025-06-10 15:36:49,536] Trial 0 finished with value: 0.9890486450144833 and parameters: {'num_filters1': 26, 'num_filters2': 24, 'fc1_size': 52, 'lr': 0.005854883399033143}. Best is trial 0 with value: 0.9890486450144833.\n",
      "[I 2025-06-10 15:36:49,566] Trial 1 finished with value: -0.5069220634642624 and parameters: {'num_filters1': 22, 'num_filters2': 30, 'fc1_size': 116, 'lr': 0.002656038033472496}. Best is trial 1 with value: -0.5069220634642624.\n",
      "[I 2025-06-10 15:36:49,595] Trial 2 finished with value: 12.915368002001884 and parameters: {'num_filters1': 11, 'num_filters2': 30, 'fc1_size': 96, 'lr': 0.00010817019462552399}. Best is trial 1 with value: -0.5069220634642624.\n",
      "[I 2025-06-10 15:36:49,624] Trial 3 finished with value: 1.2685617858476572 and parameters: {'num_filters1': 16, 'num_filters2': 57, 'fc1_size': 37, 'lr': 0.008458465756654399}. Best is trial 1 with value: -0.5069220634642624.\n",
      "[I 2025-06-10 15:36:49,652] Trial 4 finished with value: 0.6955952860444465 and parameters: {'num_filters1': 9, 'num_filters2': 34, 'fc1_size': 106, 'lr': 0.006845662300741452}. Best is trial 1 with value: -0.5069220634642624.\n",
      "[I 2025-06-10 15:36:49,686] Trial 5 finished with value: 0.22924585425989896 and parameters: {'num_filters1': 18, 'num_filters2': 30, 'fc1_size': 59, 'lr': 0.0059482702210203785}. Best is trial 1 with value: -0.5069220634642624.\n",
      "[I 2025-06-10 15:36:49,719] Trial 6 finished with value: 11.974270665366934 and parameters: {'num_filters1': 22, 'num_filters2': 64, 'fc1_size': 89, 'lr': 0.00014194325242569973}. Best is trial 1 with value: -0.5069220634642624.\n",
      "[I 2025-06-10 15:36:49,751] Trial 7 finished with value: 0.35729384932390396 and parameters: {'num_filters1': 26, 'num_filters2': 55, 'fc1_size': 110, 'lr': 0.0041473977730575665}. Best is trial 1 with value: -0.5069220634642624.\n",
      "[I 2025-06-10 15:36:49,780] Trial 8 finished with value: 15.803389737679513 and parameters: {'num_filters1': 8, 'num_filters2': 61, 'fc1_size': 73, 'lr': 0.00015613739180448248}. Best is trial 1 with value: -0.5069220634642624.\n",
      "[I 2025-06-10 15:36:49,805] Trial 9 finished with value: 10.48935968502985 and parameters: {'num_filters1': 11, 'num_filters2': 30, 'fc1_size': 85, 'lr': 0.0007896530850026675}. Best is trial 1 with value: -0.5069220634642624.\n",
      "[I 2025-06-10 15:36:49,833] A new study created in memory with name: no-name-f34a2140-9279-4c23-953b-d473618995ef\n",
      "[I 2025-06-10 15:36:49,865] Trial 0 finished with value: 0.15120827230378642 and parameters: {'num_filters1': 23, 'num_filters2': 54, 'fc1_size': 61, 'lr': 0.007229247525045982}. Best is trial 0 with value: 0.15120827230378642.\n",
      "[I 2025-06-10 15:36:49,894] Trial 1 finished with value: -0.21907150297852285 and parameters: {'num_filters1': 17, 'num_filters2': 27, 'fc1_size': 93, 'lr': 0.0017264455371765615}. Best is trial 1 with value: -0.21907150297852285.\n",
      "[I 2025-06-10 15:36:49,926] Trial 2 finished with value: 19.08206791333241 and parameters: {'num_filters1': 17, 'num_filters2': 43, 'fc1_size': 115, 'lr': 0.00012762927016996857}. Best is trial 1 with value: -0.21907150297852285.\n",
      "[I 2025-06-10 15:36:49,958] Trial 3 finished with value: 8.123875247179837 and parameters: {'num_filters1': 23, 'num_filters2': 48, 'fc1_size': 79, 'lr': 0.00024213504059520603}. Best is trial 1 with value: -0.21907150297852285.\n",
      "[I 2025-06-10 15:36:49,988] Trial 4 finished with value: 10.050835601095615 and parameters: {'num_filters1': 23, 'num_filters2': 29, 'fc1_size': 75, 'lr': 0.0002575266966820737}. Best is trial 1 with value: -0.21907150297852285.\n",
      "[I 2025-06-10 15:36:50,024] Trial 5 finished with value: 13.568726046714776 and parameters: {'num_filters1': 25, 'num_filters2': 57, 'fc1_size': 54, 'lr': 0.00011207855630737757}. Best is trial 1 with value: -0.21907150297852285.\n",
      "[I 2025-06-10 15:36:50,051] Trial 6 finished with value: 8.120211636662969 and parameters: {'num_filters1': 17, 'num_filters2': 38, 'fc1_size': 42, 'lr': 0.00022154762136655754}. Best is trial 1 with value: -0.21907150297852285.\n",
      "[I 2025-06-10 15:36:50,079] Trial 7 finished with value: 0.07974443526112762 and parameters: {'num_filters1': 17, 'num_filters2': 29, 'fc1_size': 122, 'lr': 0.009512408049112714}. Best is trial 1 with value: -0.21907150297852285.\n",
      "[I 2025-06-10 15:36:50,111] Trial 8 finished with value: 5.118438599359848 and parameters: {'num_filters1': 17, 'num_filters2': 28, 'fc1_size': 71, 'lr': 0.000691299735665634}. Best is trial 1 with value: -0.21907150297852285.\n",
      "[I 2025-06-10 15:36:50,145] Trial 9 finished with value: -0.7213720272715014 and parameters: {'num_filters1': 12, 'num_filters2': 58, 'fc1_size': 43, 'lr': 0.0030618279135124766}. Best is trial 9 with value: -0.7213720272715014.\n"
     ]
    },
    {
     "name": "stdout",
     "output_type": "stream",
     "text": [
      "\n",
      "🔥 CNN Ensemble Evaluation:\n",
      "R²: 0.6607\n",
      "MAE: 0.0968\n",
      "MSE: 0.0116\n",
      "Ensemble metrics: {'R²': 0.6607154768640405, 'MAE': 0.0968009505385254, 'MSE': 0.011617431574563783}\n",
      "Single CNN Predictions: [4861.7197   4278.63       18.240555   94.019936  139.47878 ]\n",
      "Averaged Ensemble Predictions: [4861.7197   4278.63       18.240555   94.019936  139.47878 ]\n",
      "OLS Predictions: [23847.18709575  6598.14581948    24.10545527   101.12828635\n",
      "    77.21530505]\n"
     ]
    },
    {
     "ename": "TypeError",
     "evalue": "'RegressionResultsWrapper' object is not callable",
     "output_type": "error",
     "traceback": [
      "\u001b[0;31m---------------------------------------------------------------------------\u001b[0m",
      "\u001b[0;31mTypeError\u001b[0m                                 Traceback (most recent call last)",
      "Cell \u001b[0;32mIn[6], line 151\u001b[0m\n\u001b[1;32m    145\u001b[0m X \u001b[38;5;241m=\u001b[39m X[feature_names]  \u001b[38;5;66;03m# Match training-time feature order\u001b[39;00m\n\u001b[1;32m    146\u001b[0m X_scaled_df \u001b[38;5;241m=\u001b[39m pd\u001b[38;5;241m.\u001b[39mDataFrame(\n\u001b[1;32m    147\u001b[0m     scaler_X\u001b[38;5;241m.\u001b[39mtransform(X),\n\u001b[1;32m    148\u001b[0m     columns\u001b[38;5;241m=\u001b[39mfeature_names\n\u001b[1;32m    149\u001b[0m )\n\u001b[0;32m--> 151\u001b[0m plot_fire_risk_surface_matplotlib(\n\u001b[1;32m    152\u001b[0m     model\u001b[38;5;241m=\u001b[39mmodels[\u001b[38;5;241m0\u001b[39m],\n\u001b[1;32m    153\u001b[0m     X_scaled_df\u001b[38;5;241m=\u001b[39mX_scaled_df,\n\u001b[1;32m    154\u001b[0m     scaler_X\u001b[38;5;241m=\u001b[39mscaler_X,\n\u001b[1;32m    155\u001b[0m     scaler_y\u001b[38;5;241m=\u001b[39mscaler_y,\n\u001b[1;32m    156\u001b[0m     feat1_name\u001b[38;5;241m=\u001b[39m\u001b[38;5;124m\"\u001b[39m\u001b[38;5;124mThermalInertia\u001b[39m\u001b[38;5;124m\"\u001b[39m,  \u001b[38;5;66;03m# must match one of feature_names\u001b[39;00m\n\u001b[1;32m    157\u001b[0m     feat2_name\u001b[38;5;241m=\u001b[39m\u001b[38;5;124m\"\u001b[39m\u001b[38;5;124mFuelLoadDensity\u001b[39m\u001b[38;5;124m\"\u001b[39m,           \u001b[38;5;66;03m# must match one of feature_names\u001b[39;00m\n\u001b[1;32m    158\u001b[0m     title\u001b[38;5;241m=\u001b[39m\u001b[38;5;124m\"\u001b[39m\u001b[38;5;124mCNN Prediction Surface\u001b[39m\u001b[38;5;124m\"\u001b[39m,\n\u001b[1;32m    159\u001b[0m     save_path\u001b[38;5;241m=\u001b[39m\u001b[38;5;124m\"\u001b[39m\u001b[38;5;124mexamples/cnn_surface.html\u001b[39m\u001b[38;5;124m\"\u001b[39m\n\u001b[1;32m    160\u001b[0m )\n\u001b[1;32m    161\u001b[0m \u001b[38;5;28mprint\u001b[39m(\u001b[38;5;124m\"\u001b[39m\u001b[38;5;124m✅ Surface plot saved to examples/cnn_surface.html\u001b[39m\u001b[38;5;124m\"\u001b[39m)\n",
      "File \u001b[0;32m/opt/anaconda3/lib/python3.12/site-packages/regressorpipeline/visualize.py:27\u001b[0m, in \u001b[0;36mplot_fire_risk_surface_matplotlib\u001b[0;34m(model, X_scaled_df, scaler_X, scaler_y, feat1_name, feat2_name, title, save_path)\u001b[0m\n\u001b[1;32m     25\u001b[0m \u001b[38;5;66;03m# Predict using CNN\u001b[39;00m\n\u001b[1;32m     26\u001b[0m \u001b[38;5;28;01mwith\u001b[39;00m torch\u001b[38;5;241m.\u001b[39mno_grad():\n\u001b[0;32m---> 27\u001b[0m     Y_pred \u001b[38;5;241m=\u001b[39m model(torch\u001b[38;5;241m.\u001b[39mtensor(X_grid_full_scaled, dtype\u001b[38;5;241m=\u001b[39mtorch\u001b[38;5;241m.\u001b[39mfloat32)\u001b[38;5;241m.\u001b[39munsqueeze(\u001b[38;5;241m1\u001b[39m))\u001b[38;5;241m.\u001b[39mnumpy()\n\u001b[1;32m     29\u001b[0m \u001b[38;5;66;03m# Inverse transform the input grid\u001b[39;00m\n\u001b[1;32m     30\u001b[0m X_grid_log \u001b[38;5;241m=\u001b[39m scaler_X\u001b[38;5;241m.\u001b[39minverse_transform(X_grid_full_scaled)\n",
      "\u001b[0;31mTypeError\u001b[0m: 'RegressionResultsWrapper' object is not callable"
     ]
    }
   ],
   "source": [
    "# ✅ Test paths\n",
    "train_path = \"example_data_train.xlsx\"\n",
    "test_path = \"example_data_test.xlsx\"\n",
    "\n",
    "from regressorpipeline.train import train_fire_model, train_multiple_cnn_for_fire\n",
    "from regressorpipeline.predict import (\n",
    "    load_model_bundle,\n",
    "    predict_fire_risk,\n",
    "    predict_fire_risk_from_models,\n",
    ")\n",
    "from regressorpipeline.visualize import plot_fire_risk_surface_matplotlib\n",
    "import pandas as pd\n",
    "import numpy as np\n",
    "import joblib\n",
    "import torch \n",
    "import argparse\n",
    "import pandas as pd\n",
    "import numpy as np\n",
    "import joblib\n",
    "import torch\n",
    "import statsmodels.api as sm\n",
    "from sklearn.base import BaseEstimator\n",
    "\n",
    "\n",
    "def load_model_bundle(model_path):\n",
    "    bundle = joblib.load(model_path)\n",
    "    models = bundle.get(\"models\") or [bundle[\"model\"]]\n",
    "    scaler_X = bundle[\"scaler_X\"]\n",
    "    scaler_y = bundle[\"scaler_y\"]\n",
    "    feature_names = bundle.get(\"feature_names\", None)\n",
    "    return models, scaler_X, scaler_y, feature_names\n",
    "\n",
    "def predict_fire_risk(model, scaler_X, scaler_y, input_path, feature_names=None, model_type=None):\n",
    "    df = pd.read_excel(input_path, engine=\"openpyxl\")\n",
    "    X = np.log1p(df.select_dtypes(include=[np.number]))\n",
    "\n",
    "    # Ensure feature alignment\n",
    "    if feature_names is not None:\n",
    "        X = X[feature_names]\n",
    "    elif hasattr(scaler_X, \"feature_names_in_\"):\n",
    "        X = X[scaler_X.feature_names_in_]\n",
    "\n",
    "    X_scaled = scaler_X.transform(X)\n",
    "\n",
    "    # PyTorch CNN\n",
    "    if isinstance(model, torch.nn.Module) or model_type == \"cnn\":\n",
    "        model.eval()\n",
    "        with torch.no_grad():\n",
    "            preds = model(torch.tensor(X_scaled, dtype=torch.float32).unsqueeze(1)).numpy()\n",
    "\n",
    "    # statsmodels OLS\n",
    "    elif isinstance(model, sm.regression.linear_model.RegressionResultsWrapper) or model_type == \"ols\":\n",
    "        X_scaled = sm.add_constant(X_scaled, has_constant=\"add\")\n",
    "        preds = model.predict(X_scaled)\n",
    "\n",
    "    # sklearn model\n",
    "    else:\n",
    "        preds = model.predict(X_scaled)\n",
    "\n",
    "    preds = np.expm1(scaler_y.inverse_transform(preds.reshape(-1, 1))).ravel()\n",
    "    return preds\n",
    "\n",
    "\n",
    "def predict_fire_risk_from_models(models, scaler_X, scaler_y, input_path, feature_names=None, model_type=None):\n",
    "    df = pd.read_excel(input_path, engine=\"openpyxl\")\n",
    "    X = np.log1p(df.select_dtypes(include=[np.number]))\n",
    "\n",
    "    if feature_names is not None:\n",
    "        X = X[feature_names]\n",
    "    elif hasattr(scaler_X, \"feature_names_in_\"):\n",
    "        X = X[scaler_X.feature_names_in_]\n",
    "\n",
    "    X_scaled_raw = scaler_X.transform(X)\n",
    "    preds_list = []\n",
    "\n",
    "    for m in models:\n",
    "        X_scaled = X_scaled_raw.copy()\n",
    "\n",
    "        if isinstance(m, torch.nn.Module) or model_type == \"cnn\":\n",
    "            m.eval()\n",
    "            with torch.no_grad():\n",
    "                pred = m(torch.tensor(X_scaled, dtype=torch.float32).unsqueeze(1)).numpy()\n",
    "        elif isinstance(m, sm.regression.linear_model.RegressionResultsWrapper) or model_type == \"ols\":\n",
    "            X_scaled = sm.add_constant(X_scaled, has_constant=\"add\")\n",
    "            pred = m.predict(X_scaled)\n",
    "        else:\n",
    "            pred = m.predict(X_scaled)\n",
    "\n",
    "        preds_list.append(pred)\n",
    "\n",
    "    avg_pred = np.mean(np.stack(preds_list, axis=0), axis=0)\n",
    "    avg_pred = np.expm1(scaler_y.inverse_transform(avg_pred.reshape(-1, 1))).ravel()\n",
    "    return avg_pred\n",
    "\n",
    "\n",
    "# 🔧 1. Train and evaluate a single CNN model\n",
    "model, metrics = train_fire_model(\"cnn\", train_path, save=True)\n",
    "print(\"Single CNN model metrics:\", metrics)\n",
    "\n",
    "# 🔧 2. Train CNN ensemble (3 runs) and save\n",
    "models, metrics_list, ensemble_metrics = train_multiple_cnn_for_fire(\n",
    "    train_path, n_runs=3, save=True\n",
    ")\n",
    "print(\"Ensemble metrics:\", ensemble_metrics)\n",
    "\n",
    "# 🔍 3. Load and test prediction (single CNN model)\n",
    "models, scaler_X, scaler_y, feature_names = load_model_bundle(\"best_cnn_model.joblib\")\n",
    "preds = predict_fire_risk(\n",
    "    models[0],\n",
    "    scaler_X,\n",
    "    scaler_y,\n",
    "    test_path,\n",
    "    feature_names=feature_names,\n",
    "    model_type=\"cnn\"\n",
    ")\n",
    "print(\"Single CNN Predictions:\", preds[:5])\n",
    "\n",
    "# 🔍 4. Load and test ensemble prediction\n",
    "models, scaler_X, scaler_y, feature_names = load_model_bundle(\"cnn_ensemble.joblib\")\n",
    "avg_preds = predict_fire_risk_from_models(\n",
    "    models,\n",
    "    scaler_X,\n",
    "    scaler_y,\n",
    "    test_path,\n",
    "    feature_names=feature_names,\n",
    "    model_type=\"cnn\"\n",
    ")\n",
    "print(\"Averaged Ensemble Predictions:\", avg_preds[:5])\n",
    "\n",
    "# 🔍 5. Load and test OLS model prediction\n",
    "models, scaler_X, scaler_y, feature_names = load_model_bundle(\"best_ols_model.joblib\")\n",
    "ols_preds = predict_fire_risk(\n",
    "    models[0],\n",
    "    scaler_X,\n",
    "    scaler_y,\n",
    "    test_path,\n",
    "    feature_names=feature_names,\n",
    "    model_type=\"ols\"\n",
    ")\n",
    "print(\"OLS Predictions:\", ols_preds[:5])\n",
    "\n",
    "# 📊 6. Generate CNN surface plot\n",
    "df = pd.read_excel(test_path, engine=\"openpyxl\")\n",
    "X = np.log1p(df.select_dtypes(include=\"number\"))\n",
    "X = X[feature_names]  # Match training-time feature order\n",
    "X_scaled_df = pd.DataFrame(\n",
    "    scaler_X.transform(X),\n",
    "    columns=feature_names\n",
    ")\n",
    "\n",
    "plot_fire_risk_surface_matplotlib(\n",
    "    model=models[0],\n",
    "    X_scaled_df=X_scaled_df,\n",
    "    scaler_X=scaler_X,\n",
    "    scaler_y=scaler_y,\n",
    "    feat1_name=\"ThermalInertia\",  # must match one of feature_names\n",
    "    feat2_name=\"FuelLoadDensity\",           # must match one of feature_names\n",
    "    title=\"CNN Prediction Surface\",\n",
    "    save_path=\"examples/cnn_surface.html\"\n",
    ")\n",
    "print(\"✅ Surface plot saved to examples/cnn_surface.html\")\n"
   ]
  },
  {
   "cell_type": "code",
   "execution_count": 2,
   "id": "2510a3c7",
   "metadata": {},
   "outputs": [
    {
     "name": "stdout",
     "output_type": "stream",
     "text": [
      "dict_keys(['model', 'scaler_X', 'scaler_y', 'feature_names'])\n"
     ]
    },
    {
     "data": {
      "text/plain": [
       "['T_ig',\n",
       " 'ThermalInertia',\n",
       " 'AverageEffectiveHeatofCombustion',\n",
       " 'EffectiveHeatofGasification',\n",
       " 'FuelLoadDensity']"
      ]
     },
     "execution_count": 2,
     "metadata": {},
     "output_type": "execute_result"
    }
   ],
   "source": [
    "import joblib\n",
    "bundle = joblib.load(\"best_cnn_model.joblib\")\n",
    "print(bundle.keys())\n",
    "# Should include: model, scaler_X, scaler_y, feature_names\n",
    "bundle.get(\"feature_names\", None)  # Should return the list of feature names used during training"
   ]
  },
  {
   "cell_type": "code",
   "execution_count": 3,
   "id": "7929897c",
   "metadata": {},
   "outputs": [
    {
     "data": {
      "text/plain": [
       "([CNNModel(\n",
       "    (conv1): Conv1d(1, 31, kernel_size=(3,), stride=(1,), padding=(1,))\n",
       "    (conv2): Conv1d(31, 41, kernel_size=(3,), stride=(1,), padding=(1,))\n",
       "    (relu): ReLU()\n",
       "    (fc2): Linear(in_features=53, out_features=1, bias=True)\n",
       "    (fc1): Linear(in_features=205, out_features=53, bias=True)\n",
       "  )],\n",
       " MinMaxScaler(),\n",
       " MinMaxScaler())"
      ]
     },
     "execution_count": 3,
     "metadata": {},
     "output_type": "execute_result"
    }
   ],
   "source": [
    "out = load_model_bundle(\"best_cnn_model.joblib\")\n",
    "out"
   ]
  }
 ],
 "metadata": {
  "kernelspec": {
   "display_name": "base",
   "language": "python",
   "name": "python3"
  },
  "language_info": {
   "codemirror_mode": {
    "name": "ipython",
    "version": 3
   },
   "file_extension": ".py",
   "mimetype": "text/x-python",
   "name": "python",
   "nbconvert_exporter": "python",
   "pygments_lexer": "ipython3",
   "version": "3.12.4"
  }
 },
 "nbformat": 4,
 "nbformat_minor": 5
}
